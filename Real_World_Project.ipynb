{
  "cells": [
    {
      "cell_type": "markdown",
      "metadata": {
        "id": "view-in-github",
        "colab_type": "text"
      },
      "source": [
        "<a href=\"https://colab.research.google.com/github/Aryagm/ML_Workshop/blob/master/Real_World_Project.ipynb\" target=\"_parent\"><img src=\"https://colab.research.google.com/assets/colab-badge.svg\" alt=\"Open In Colab\"/></a>"
      ]
    },
    {
      "cell_type": "markdown",
      "source": [
        "# Day 3"
      ],
      "metadata": {
        "collapsed": false,
        "pycharm": {
          "name": "#%% md\n"
        },
        "id": "9biYFz9DhYRV"
      }
    },
    {
      "cell_type": "markdown",
      "source": [
        "## Agenda\n",
        "\n",
        "* The Machine Learning Pipeline\n",
        "* Introducing the real-world problem\n",
        "* Looking at the Big Picture (Step 1 of the pipeline)\n",
        "* Downloading the Data\n",
        "* Load the data into Pandas"
      ],
      "metadata": {
        "collapsed": false,
        "pycharm": {
          "name": "#%% md\n"
        },
        "id": "uHpSV-6ohYRb"
      }
    },
    {
      "cell_type": "markdown",
      "source": [
        "## The Machine Learning Pipeline"
      ],
      "metadata": {
        "collapsed": false,
        "pycharm": {
          "name": "#%% md\n"
        },
        "id": "7ogozx4ohYRd"
      }
    },
    {
      "cell_type": "markdown",
      "source": [
        "Every Machine Learning project follows a sequence of steps or a roadmap. Following this roadmap reduces the amount of mistakes and ensures that we do not overlook important procedures."
      ],
      "metadata": {
        "collapsed": false,
        "pycharm": {
          "name": "#%% md\n"
        },
        "id": "8qV4pVcjhYRd"
      }
    },
    {
      "cell_type": "markdown",
      "source": [
        "### 1. Look at the big picture."
      ],
      "metadata": {
        "collapsed": false,
        "pycharm": {
          "name": "#%% md\n"
        },
        "id": "-c43FezihYRe"
      }
    },
    {
      "cell_type": "markdown",
      "source": [
        "Before we start any ML project it is very important for us to take a step back and understand what is expected from us. The first step is always to take a birds eye view of the project, and make sure we have all the necessary information. This first step can be further broken down into substeps:"
      ],
      "metadata": {
        "collapsed": false,
        "pycharm": {
          "name": "#%% md\n"
        },
        "id": "4XbESGlrhYRe"
      }
    },
    {
      "cell_type": "markdown",
      "source": [
        "#### a. Define the Objective"
      ],
      "metadata": {
        "collapsed": false,
        "pycharm": {
          "name": "#%% md\n"
        },
        "id": "Y5prJ7bLhYRf"
      }
    },
    {
      "cell_type": "markdown",
      "source": [
        "The first question to ask your boss is what exactly the business objective is. Building a model is probably not the end goal. How does the company expect to use and benefit from this model? Knowing the objective is important because it will determine how you frame the problem, which algorithms you will select, which performance measure you will use to evaluate your model, and how much effort you will spend tweaking it"
      ],
      "metadata": {
        "collapsed": false,
        "pycharm": {
          "name": "#%% md\n"
        },
        "id": "0gbLy7NPhYRg"
      }
    },
    {
      "cell_type": "markdown",
      "source": [
        "#### b. Checking current solutions"
      ],
      "metadata": {
        "collapsed": false,
        "pycharm": {
          "name": "#%% md\n"
        },
        "id": "HiucHuSMhYRh"
      }
    },
    {
      "cell_type": "markdown",
      "source": [
        "The next question to ask your boss is what the current solution looks like (if any). The current situation will often give you a reference for performance, as well as insights on how to solve the problem"
      ],
      "metadata": {
        "collapsed": false,
        "pycharm": {
          "name": "#%% md\n"
        },
        "id": "P9Vz7bF9hYRi"
      }
    },
    {
      "cell_type": "markdown",
      "source": [
        "#### c. Framing the Problem"
      ],
      "metadata": {
        "collapsed": false,
        "pycharm": {
          "name": "#%% md\n"
        },
        "id": "cpaLSNLYhYRj"
      }
    },
    {
      "cell_type": "markdown",
      "source": [
        "With all this information, you are now ready to start designing your system. First, you need to frame the problem: is it supervised or unsupervised? Is it a classification task, a regression task, or something else? Getting these facts straight will simplify the problem and give you a clear roadmap for what to do ahead."
      ],
      "metadata": {
        "collapsed": false,
        "pycharm": {
          "name": "#%% md\n"
        },
        "id": "rULR8apHhYRj"
      }
    },
    {
      "cell_type": "markdown",
      "source": [
        "#### d. Selecting a Performance Metric"
      ],
      "metadata": {
        "collapsed": false,
        "pycharm": {
          "name": "#%% md\n"
        },
        "id": "ztvUjIyThYRk"
      }
    },
    {
      "cell_type": "markdown",
      "source": [
        "Your next step is to select a performance measure. This step is very important because it allows us to measure how well our model works. It also allows us to create a benchmark which we can aim to beat. We must ensure that the performance metric we choose is aligned with the business objective."
      ],
      "metadata": {
        "collapsed": false,
        "pycharm": {
          "name": "#%% md\n"
        },
        "id": "qGAAkfgrhYRk"
      }
    },
    {
      "cell_type": "markdown",
      "source": [
        "### 2. Get the Data"
      ],
      "metadata": {
        "collapsed": false,
        "pycharm": {
          "name": "#%% md\n"
        },
        "id": "PY4EYeY-hYRl"
      }
    },
    {
      "cell_type": "markdown",
      "source": [
        "The next step of the pipeline is to get the data and make sure it is in the right format."
      ],
      "metadata": {
        "collapsed": false,
        "pycharm": {
          "name": "#%% md\n"
        },
        "id": "HNqfDrQdhYRl"
      }
    },
    {
      "cell_type": "markdown",
      "source": [
        "####  a. List the data you need and how much you need."
      ],
      "metadata": {
        "collapsed": false,
        "pycharm": {
          "name": "#%% md\n"
        },
        "id": "mqMnmu5RhYRl"
      }
    },
    {
      "cell_type": "markdown",
      "source": [
        "We first need to establish how much data we need and what type of data we want."
      ],
      "metadata": {
        "collapsed": false,
        "pycharm": {
          "name": "#%% md\n"
        },
        "id": "e5HTOcRuhYRm"
      }
    },
    {
      "cell_type": "markdown",
      "source": [
        "#### b. Find and document where you can get that data."
      ],
      "metadata": {
        "collapsed": false,
        "pycharm": {
          "name": "#%% md\n"
        },
        "id": "K7GRN2ybhYRm"
      }
    },
    {
      "cell_type": "markdown",
      "source": [
        "Once you know what data you need, you also need to figure out where you can source the data from."
      ],
      "metadata": {
        "collapsed": false,
        "pycharm": {
          "name": "#%% md\n"
        },
        "id": "IHsNq6l_hYRm"
      }
    },
    {
      "cell_type": "markdown",
      "source": [
        "#### c.  Check legal obligations, and get authorization if necessary"
      ],
      "metadata": {
        "collapsed": false,
        "pycharm": {
          "name": "#%% md\n"
        },
        "id": "NDEGeQdahYRm"
      }
    },
    {
      "cell_type": "markdown",
      "source": [
        "A lot of data is not directly accessible. You need to be authorized in order to access it. You must make sure that the data you are using is accessed using legal means. Skipping this step can cause problems in the future."
      ],
      "metadata": {
        "collapsed": false,
        "pycharm": {
          "name": "#%% md\n"
        },
        "id": "zf15jECehYRm"
      }
    },
    {
      "cell_type": "markdown",
      "source": [
        "#### d. Create a workspace (with enough storage space)."
      ],
      "metadata": {
        "collapsed": false,
        "pycharm": {
          "name": "#%% md\n"
        },
        "id": "7gWmfT35hYRn"
      }
    },
    {
      "cell_type": "markdown",
      "source": [
        "Datasets in the real world can be hundreds of gigabytes or even terabytes in size. You must set up a system that is capable of handling these large sizes and functioning properly."
      ],
      "metadata": {
        "collapsed": false,
        "pycharm": {
          "name": "#%% md\n"
        },
        "id": "DQs7ATYdhYRn"
      }
    },
    {
      "cell_type": "markdown",
      "source": [
        "#### e. Convert the data to a format you can easily manipulate"
      ],
      "metadata": {
        "collapsed": false,
        "pycharm": {
          "name": "#%% md\n"
        },
        "id": "V5jMRKSshYRn"
      }
    },
    {
      "cell_type": "markdown",
      "source": [
        "One common problem you may encounter is that your data is in the wrong format. Sometimes data can be stored in formats which are difficult to modify and analyze. You must convert your data into the right format in order to make data processing and analysis error free."
      ],
      "metadata": {
        "collapsed": false,
        "pycharm": {
          "name": "#%% md\n"
        },
        "id": "SvjmeEyZhYRn"
      }
    },
    {
      "cell_type": "markdown",
      "source": [
        "#### f. Ensure sensitive information is deleted or protected"
      ],
      "metadata": {
        "collapsed": false,
        "pycharm": {
          "name": "#%% md\n"
        },
        "id": "t1uyQzs4hYRn"
      }
    },
    {
      "cell_type": "markdown",
      "source": [
        "Sometimes datasets have sensitive information like phone numbers, names, emails and other personal details. You must ensure that this sensitive information is removed or properly encrypted. Data leaks can occur, and if personal data is found in these data leaks, you can put the privacy of thousands of people at risk."
      ],
      "metadata": {
        "collapsed": false,
        "pycharm": {
          "name": "#%% md\n"
        },
        "id": "HR_MMmqChYRn"
      }
    },
    {
      "cell_type": "markdown",
      "source": [
        "#### g. Create a test set, put it aside, and never look at it"
      ],
      "metadata": {
        "collapsed": false,
        "pycharm": {
          "name": "#%% md\n"
        },
        "id": "Gi-nLORohYRn"
      }
    },
    {
      "cell_type": "markdown",
      "source": [
        "Once you have the data in the right format. You must create a test set and put it aside. **This data should ONLY BE USED FOR TESTING!** The only time you should access this data is at the end when you want to make sure your model is performing well."
      ],
      "metadata": {
        "collapsed": false,
        "pycharm": {
          "name": "#%% md\n"
        },
        "id": "SHcplO3ehYRo"
      }
    },
    {
      "cell_type": "markdown",
      "source": [
        "### 3. Explore the Data"
      ],
      "metadata": {
        "collapsed": false,
        "pycharm": {
          "name": "#%% md\n"
        },
        "id": "X9QiU2S5hYRo"
      }
    },
    {
      "cell_type": "markdown",
      "source": [
        "Once you have the data in the appropriate format, you need to analyze the data to find out if it has problems and see what information it contains."
      ],
      "metadata": {
        "collapsed": false,
        "pycharm": {
          "name": "#%% md\n"
        },
        "id": "ebM_Eii0hYRo"
      }
    },
    {
      "cell_type": "markdown",
      "source": [
        "#### a. Create a copy of the data for exploration"
      ],
      "metadata": {
        "collapsed": false,
        "pycharm": {
          "name": "#%% md\n"
        },
        "id": "qyF98RMMhYRo"
      }
    },
    {
      "cell_type": "markdown",
      "source": [
        "One thing you need to remember is that you must never make changes to the original dataset. You should always create a copy of the data. So, if you make any breaking changes to the copy, you can always reuse the original dataset."
      ],
      "metadata": {
        "collapsed": false,
        "pycharm": {
          "name": "#%% md\n"
        },
        "id": "8crNk5jIhYRo"
      }
    },
    {
      "cell_type": "markdown",
      "source": [
        "#### b. Study all the features and their characteristics:"
      ],
      "metadata": {
        "collapsed": false,
        "pycharm": {
          "name": "#%% md\n"
        },
        "id": "RIekQiNmhYRo"
      }
    },
    {
      "cell_type": "markdown",
      "source": [
        "Once you create a copy, you should study all the columns in the dataset. You should try to understand the characteristics of the features like:\n",
        "* The name of the column\n",
        "* The type of data it has (e.g. text, numbers, locations)\n",
        "* Does it have missing values\n",
        "* Is the data in the column noisy\n",
        "* Is the column potentially useful"
      ],
      "metadata": {
        "collapsed": false,
        "pycharm": {
          "name": "#%% md\n"
        },
        "id": "w1GDe0gYhYRo"
      }
    },
    {
      "cell_type": "markdown",
      "source": [
        "#### c. Visualize the Data"
      ],
      "metadata": {
        "collapsed": false,
        "pycharm": {
          "name": "#%% md\n"
        },
        "id": "7MQpM7XvhYRp"
      }
    },
    {
      "cell_type": "markdown",
      "source": [
        "You should also try to visualize the data in different formats to get more insights you might have missed. Visualizing data has two main benefits:\n",
        "1. It shows correlations and distributions which are not visible just by looking at the raw data.\n",
        "2. You can share these visualizations with coworkers who might not have the technical knowledge to work with raw data. Visualizations are a great way to quickly explain the data and your findings to other people"
      ],
      "metadata": {
        "collapsed": false,
        "pycharm": {
          "name": "#%% md\n"
        },
        "id": "qk2UWvTHhYRp"
      }
    },
    {
      "cell_type": "markdown",
      "source": [
        "#### d. Study how you would solve the problem manually."
      ],
      "metadata": {
        "collapsed": false,
        "pycharm": {
          "name": "#%% md\n"
        },
        "id": "a09yCf0rhYRp"
      }
    },
    {
      "cell_type": "markdown",
      "source": [
        "Sometimes, the data you have might be very simple. In these cases using Machine Learning might introduce unnecessary overhead. If possible, you should try to solve the problem manually. If the problem can be solved elegantly without machine learning, you might not need to train a model. Like we discussed on Day 1, Machine Learning might not always be the right choice."
      ],
      "metadata": {
        "collapsed": false,
        "pycharm": {
          "name": "#%% md\n"
        },
        "id": "9a5CcS9EhYRp"
      }
    },
    {
      "cell_type": "markdown",
      "source": [
        "#### e. Identify the promising transformations you may want to apply"
      ],
      "metadata": {
        "collapsed": false,
        "pycharm": {
          "name": "#%% md\n"
        },
        "id": "o8JPK1_ThYRp"
      }
    },
    {
      "cell_type": "markdown",
      "source": [
        "Once you have studied the problem, you should have a list of changes or transformations you might need to make to the data to remove errors or improve its usability. It is important to keep note of these transformations, so you can work with them later in the pipeline"
      ],
      "metadata": {
        "collapsed": false,
        "pycharm": {
          "name": "#%% md\n"
        },
        "id": "S6h9lcMlhYRp"
      }
    },
    {
      "cell_type": "markdown",
      "source": [
        "### 4. Prepare the Data"
      ],
      "metadata": {
        "collapsed": false,
        "pycharm": {
          "name": "#%% md\n"
        },
        "id": "FZHZNugrhYRp"
      }
    },
    {
      "cell_type": "markdown",
      "source": [
        "Once you have the data analyzed, you need to make the data more useful. You will need to fix errors like missing values and add new features to the data. This will help you increase accuracy of the model."
      ],
      "metadata": {
        "collapsed": false,
        "pycharm": {
          "name": "#%% md\n"
        },
        "id": "GrFoz4fmhYRp"
      }
    },
    {
      "cell_type": "markdown",
      "source": [
        "#### a. Clean the Data"
      ],
      "metadata": {
        "collapsed": false,
        "pycharm": {
          "name": "#%% md\n"
        },
        "id": "3COHipXLhYRq"
      }
    },
    {
      "cell_type": "markdown",
      "source": [
        "First you need to clean the data and remove any errors it might have. Some of the steps you can take to clean the data are:\n",
        "1. Remove outliers: Somtimes datasets have faulty measurements, you should remove these outliers so that the model does not get confused.\n",
        "2. Fill in or remove missing values: Almost all datasets in the real world have missing value. ML models cannot work with such vaues, so it is our job to remove or fix them."
      ],
      "metadata": {
        "collapsed": false,
        "pycharm": {
          "name": "#%% md\n"
        },
        "id": "E7bGbeMbhYRq"
      }
    },
    {
      "cell_type": "markdown",
      "source": [
        "#### b. Feature Selection"
      ],
      "metadata": {
        "collapsed": false,
        "pycharm": {
          "name": "#%% md\n"
        },
        "id": "1joNUZwthYRq"
      }
    },
    {
      "cell_type": "markdown",
      "source": [
        "Many datasets have features that are useless and do not contain any useful information. To make sure the model only focuses on the important columns, we can drop the attributes that provide no useful information for the task.\n"
      ],
      "metadata": {
        "collapsed": false,
        "pycharm": {
          "name": "#%% md\n"
        },
        "id": "UlOymFz-hYRq"
      }
    },
    {
      "cell_type": "markdown",
      "source": [
        "#### c. Feature Engineering"
      ],
      "metadata": {
        "collapsed": false,
        "pycharm": {
          "name": "#%% md\n"
        },
        "id": "ZnEsZeFVhYRq"
      }
    },
    {
      "cell_type": "markdown",
      "source": [
        "Once you remove the unnecessary features, you can try to edit the current features or try to create new ones. There are several steps you can take to make the data more useful:\n",
        "* Combine existing features to create new useful combinations\n",
        "* Convert complex data types (like dates) into simple, easy to understand numbers"
      ],
      "metadata": {
        "collapsed": false,
        "pycharm": {
          "name": "#%% md\n"
        },
        "id": "lvTTI_JRhYRq"
      }
    },
    {
      "cell_type": "markdown",
      "source": [
        "#### d. Feature Scaling"
      ],
      "metadata": {
        "collapsed": false,
        "pycharm": {
          "name": "#%% md\n"
        },
        "id": "BfkspgiohYRq"
      }
    },
    {
      "cell_type": "markdown",
      "source": [
        "Machine Learning models tend to work well with numbers that fall within a particular range. You can perform feature scaling to make sure all the features fall within a range (like between 0 and 1). There are many benefits to doing this inclusing better accuracy and faster training."
      ],
      "metadata": {
        "collapsed": false,
        "pycharm": {
          "name": "#%% md\n"
        },
        "id": "DlhkvfAGhYRq"
      }
    },
    {
      "cell_type": "markdown",
      "source": [
        "### 5. Shortlist Promising Models"
      ],
      "metadata": {
        "collapsed": false,
        "pycharm": {
          "name": "#%% md\n"
        },
        "id": "7TM31nzkhYRq"
      }
    },
    {
      "cell_type": "markdown",
      "source": [
        "Once you have your data in the right format, you can start doing the fun stuff! Your task now is to try out different Machine Learning models and see which ones yield the best performance."
      ],
      "metadata": {
        "collapsed": false,
        "pycharm": {
          "name": "#%% md\n"
        },
        "id": "NKzMYrwshYRq"
      }
    },
    {
      "cell_type": "markdown",
      "source": [
        "#### a. Train many quick-and-dirty models"
      ],
      "metadata": {
        "collapsed": false,
        "pycharm": {
          "name": "#%% md\n"
        },
        "id": "aZ6llWQDhYRr"
      }
    },
    {
      "cell_type": "markdown",
      "source": [
        "Your first aim should be to check which models give you the best performance. To do this, you will need to quickly try out many models with the default parameters."
      ],
      "metadata": {
        "collapsed": false,
        "pycharm": {
          "name": "#%% md\n"
        },
        "id": "pZySpUvYhYRr"
      }
    },
    {
      "cell_type": "markdown",
      "source": [
        "#### b. Measure and Compare their performance"
      ],
      "metadata": {
        "collapsed": false,
        "pycharm": {
          "name": "#%% md\n"
        },
        "id": "6GtL5FvXhYRr"
      }
    },
    {
      "cell_type": "markdown",
      "source": [
        "You should measure and record the performance of all these models. Once you have tested a few different models, compare their performance and see which one gives you the best performance."
      ],
      "metadata": {
        "collapsed": false,
        "pycharm": {
          "name": "#%% md\n"
        },
        "id": "7aaA28avhYRr"
      }
    },
    {
      "cell_type": "markdown",
      "source": [
        "#### c. Shortlist the top 2-3 models"
      ],
      "metadata": {
        "collapsed": false,
        "pycharm": {
          "name": "#%% md\n"
        },
        "id": "2wB7g_KXhYRr"
      }
    },
    {
      "cell_type": "markdown",
      "source": [
        "Make note of the best performing models. Yo u can spend the rest of your energy focusing on these since they give the best results."
      ],
      "metadata": {
        "collapsed": false,
        "pycharm": {
          "name": "#%% md\n"
        },
        "id": "LkVy65XThYRr"
      }
    },
    {
      "cell_type": "markdown",
      "source": [
        "### 6. Fine-tune the models"
      ],
      "metadata": {
        "collapsed": false,
        "pycharm": {
          "name": "#%% md\n"
        },
        "id": "DyE8ay7PhYRr"
      }
    },
    {
      "cell_type": "markdown",
      "source": [
        "Every ML model has a set of dials and knobs called hyperparameters. You can edit these hyperparameters to change the performance of a model. You will need to try out many different combinations of hyperparameteres to see which ones give the best results. This step can be automated with something called a Grid Search. We will learn about this implementation when we fine-tune our own model."
      ],
      "metadata": {
        "collapsed": false,
        "pycharm": {
          "name": "#%% md\n"
        },
        "id": "-e4cLvy3hYRr"
      }
    },
    {
      "cell_type": "markdown",
      "source": [
        "#### a. Measure Performance on the Test set"
      ],
      "metadata": {
        "collapsed": false,
        "pycharm": {
          "name": "#%% md\n"
        },
        "id": "Xt_BXnkWhYRs"
      }
    },
    {
      "cell_type": "markdown",
      "source": [
        "Once you have a final model, you need to make sure it performs well on data it has never seen before. To verify this, we test our model on the test set we kep aside in the beginning. If the accuracy on the test set is low, your model is overfitting and you need to make changes."
      ],
      "metadata": {
        "collapsed": false,
        "pycharm": {
          "name": "#%% md\n"
        },
        "id": "rfvsSv0ghYRs"
      }
    },
    {
      "cell_type": "markdown",
      "source": [
        "That is the end of the Machine Learning Pipeline. You can now put your model into production! We will now go over all these steps using real data and try to create a functioning model using real world data."
      ],
      "metadata": {
        "collapsed": false,
        "pycharm": {
          "name": "#%% md\n"
        },
        "id": "Co_O3vJ0hYRs"
      }
    },
    {
      "cell_type": "markdown",
      "source": [
        "## Starting the Real World Project!"
      ],
      "metadata": {
        "collapsed": false,
        "pycharm": {
          "name": "#%% md\n"
        },
        "id": "L9Rq4iudhYRs"
      }
    },
    {
      "cell_type": "markdown",
      "source": [
        "### Introducing the real-world problem"
      ],
      "metadata": {
        "collapsed": false,
        "pycharm": {
          "name": "#%% md\n"
        },
        "id": "iAf-LLAChYRs"
      }
    },
    {
      "cell_type": "markdown",
      "source": [
        "In this workshop you will work through an example project end to end, pretending to be a recently hired data scientist at a real estate company. Your first task is to use California census data to build a model of housing prices in the state. This data includes metrics such as the population, median income, and median housing price for each district in California. You will have to create a model to predict the price of a house on a district based on these values."
      ],
      "metadata": {
        "collapsed": false,
        "pycharm": {
          "name": "#%% md\n"
        },
        "id": "QK0rtUz5hYRs"
      }
    },
    {
      "cell_type": "markdown",
      "source": [
        "## Looking at the Big Picture"
      ],
      "metadata": {
        "collapsed": false,
        "pycharm": {
          "name": "#%% md\n"
        },
        "id": "3b0DfNiahYRs"
      }
    },
    {
      "cell_type": "markdown",
      "source": [
        "Like we discussed in the section about the ML pipeline, the first step in a ML project is to take a step back and Frame the Problem."
      ],
      "metadata": {
        "collapsed": false,
        "pycharm": {
          "name": "#%% md\n"
        },
        "id": "2U-kG-yZhYRs"
      }
    },
    {
      "cell_type": "markdown",
      "source": [
        "### Frame the Problem"
      ],
      "metadata": {
        "collapsed": false,
        "pycharm": {
          "name": "#%% md\n"
        },
        "id": "L8KhMEW-hYRs"
      }
    },
    {
      "cell_type": "markdown",
      "source": [
        "The first question to ask your boss is what exactly the business objective is. Building a model is probably not the end goal. How does the company expect to use and benefit from this model?\n",
        "\n",
        "Your boss answers that your model’s output (a prediction of a district’s median housing price) will be used to determine whether it is worth investing in a given area or not."
      ],
      "metadata": {
        "collapsed": false,
        "pycharm": {
          "name": "#%% md\n"
        },
        "id": "-IPoWXIUhYRs"
      }
    },
    {
      "cell_type": "markdown",
      "source": [
        "### Looking at the Current Solution"
      ],
      "metadata": {
        "collapsed": false,
        "pycharm": {
          "name": "#%% md\n"
        },
        "id": "PrMvmaj6hYRt"
      }
    },
    {
      "cell_type": "markdown",
      "source": [
        "The next question to ask your boss is what the current solution looks like (if any). The current situation will often give you a reference for performance, as well as insights on how to solve the problem.\n",
        "\n",
        "Your boss answers that the district housing prices are currently estimated manually by experts: a team gathers up-to-date information about a district, and when they cannot get the median housing price, they estimate it using complex rules."
      ],
      "metadata": {
        "collapsed": false,
        "pycharm": {
          "name": "#%% md\n"
        },
        "id": "hzAvhPIOhYRt"
      }
    },
    {
      "cell_type": "markdown",
      "source": [
        "### Framing the Problem technically"
      ],
      "metadata": {
        "collapsed": false,
        "pycharm": {
          "name": "#%% md\n"
        },
        "id": "KXAjKCpbhYRt"
      }
    },
    {
      "cell_type": "markdown",
      "source": [
        "With all this information, you are now ready to start designing your system. First, you need to frame the problem: is it supervised, unsupervised? Is it a classification task, regression task, or something else? Try to answer these questions for yourself."
      ],
      "metadata": {
        "collapsed": false,
        "pycharm": {
          "name": "#%% md\n"
        },
        "id": "j-66MvHNhYRt"
      }
    },
    {
      "cell_type": "markdown",
      "source": [
        "Have you found the answers? Let’s see: it is clearly a typical supervised learning task, since you are given labeled training example (each instance comes with the expected output, i.e., the district’s median housing price). It is also a typical regression task, since you are asked to predict a value."
      ],
      "metadata": {
        "collapsed": false,
        "pycharm": {
          "name": "#%% md\n"
        },
        "id": "NxVBuquehYRt"
      }
    },
    {
      "cell_type": "markdown",
      "source": [
        "### Selecting a Performance metric"
      ],
      "metadata": {
        "collapsed": false,
        "pycharm": {
          "name": "#%% md\n"
        },
        "id": "QooscGh1hYRt"
      }
    },
    {
      "cell_type": "markdown",
      "source": [
        "Your next step is to select a performance measure. A typical performance measure for regression problems is the Root Mean Square Error (RMSE). It gives an idea of how much error the system typically makes in its predictions, with a higher weight for large errors:\n",
        "\n",
        "![](https://miro.medium.com/max/611/1*jopCO2kMEI84s6fiGKdXqg.png)"
      ],
      "metadata": {
        "collapsed": false,
        "pycharm": {
          "name": "#%% md\n"
        },
        "id": "8jHWkVaChYRt"
      }
    },
    {
      "cell_type": "markdown",
      "source": [
        "RMSE is a metric that is fairly easy to understand. The way to calculate the RMSE is as follows:\n",
        "1. The difference between a prediction and the actual value is known as the \"error\".\n",
        "2. First, calculate the \"error's\" for all the points in the dataset.\n",
        "3. We then square these errors.\n",
        "4. We calculate the average of all the squared values.\n",
        "5. Lastly, we square root the sum.\n",
        "\n",
        "It might sound like a lot, but the libraries we will be using in the project will make it very easy to implement this."
      ],
      "metadata": {
        "collapsed": false,
        "pycharm": {
          "name": "#%% md\n"
        },
        "id": "mfS_PNUJhYRt"
      }
    },
    {
      "cell_type": "markdown",
      "source": [
        "## Get the Data"
      ],
      "metadata": {
        "collapsed": false,
        "pycharm": {
          "name": "#%% md\n"
        },
        "id": "XBCWwvghhYRu"
      }
    },
    {
      "cell_type": "markdown",
      "source": [
        "Now that we have all the information we need about the problem, we can start to load the data."
      ],
      "metadata": {
        "collapsed": false,
        "pycharm": {
          "name": "#%% md\n"
        },
        "id": "MMAxd16DhYRu"
      }
    },
    {
      "cell_type": "markdown",
      "source": [
        "In typical environments your data would be available in a database (or some other common data store) and spread across multiple tables/documents/files. To access it, you would first need to get your credentials and access authorizations and familiarize yourself with the data schema. In this project, however, things are much simpler: you will just access a URL which contains a comma-separated values (CSV) file called housing.csv with all the data."
      ],
      "metadata": {
        "collapsed": false,
        "pycharm": {
          "name": "#%% md\n"
        },
        "id": "aR2JVmMphYRu"
      }
    },
    {
      "cell_type": "markdown",
      "source": [
        "You could use your web browser to download the file and extract the CSV file, but it is preferable to create a small function to do that. Having a function that downloads the data is useful in particular if the data changes regularly: you can write a small script that uses the function to fetch the latest data (or you can set up a scheduled job to do that automatically at regular intervals). Automating the process of fetching the data is also useful if you need to install the dataset on multiple machines."
      ],
      "metadata": {
        "collapsed": false,
        "pycharm": {
          "name": "#%% md\n"
        },
        "id": "InWh-Vn8hYRu"
      }
    },
    {
      "cell_type": "code",
      "execution_count": null,
      "outputs": [],
      "source": [
        "# importing pandas:\n",
        "\n",
        "# function to load the data:\n",
        "def load_housing_data(url):\n"
      ],
      "metadata": {
        "pycharm": {
          "name": "#%%\n"
        },
        "id": "UvipeiophYRu"
      }
    },
    {
      "cell_type": "markdown",
      "source": [
        "Now that we have the function defined, we can use it to load the actual data."
      ],
      "metadata": {
        "collapsed": false,
        "pycharm": {
          "name": "#%% md\n"
        },
        "id": "btxKOH8thYRv"
      }
    },
    {
      "cell_type": "code",
      "execution_count": null,
      "metadata": {
        "collapsed": true,
        "pycharm": {
          "name": "#%%\n"
        },
        "id": "0sRZH2kFhYRv"
      },
      "outputs": [],
      "source": [
        "# URL containing the data:\n",
        "DATA_URL = \"https://raw.githubusercontent.com/ageron/handson-ml/master/datasets/housing/housing.csv\"\n",
        "\n",
        "# Using the function to load the data:\n",
        "data = "
      ]
    },
    {
      "cell_type": "markdown",
      "source": [
        "We now have the data loaded in the form of a Pandas Dataframe. Let’s take a look at the top five rows using the DataFrame’s `head()` method"
      ],
      "metadata": {
        "collapsed": false,
        "pycharm": {
          "name": "#%% md\n"
        },
        "id": "-GpVPikEhYRv"
      }
    },
    {
      "cell_type": "code",
      "execution_count": null,
      "outputs": [
        {
          "output_type": "execute_result",
          "data": {
            "text/plain": [
              "   longitude  latitude  housing_median_age  total_rooms  total_bedrooms  \\\n",
              "0    -122.23     37.88                41.0        880.0           129.0   \n",
              "1    -122.22     37.86                21.0       7099.0          1106.0   \n",
              "2    -122.24     37.85                52.0       1467.0           190.0   \n",
              "3    -122.25     37.85                52.0       1274.0           235.0   \n",
              "4    -122.25     37.85                52.0       1627.0           280.0   \n",
              "\n",
              "   population  households  median_income  median_house_value ocean_proximity  \n",
              "0       322.0       126.0         8.3252            452600.0        NEAR BAY  \n",
              "1      2401.0      1138.0         8.3014            358500.0        NEAR BAY  \n",
              "2       496.0       177.0         7.2574            352100.0        NEAR BAY  \n",
              "3       558.0       219.0         5.6431            341300.0        NEAR BAY  \n",
              "4       565.0       259.0         3.8462            342200.0        NEAR BAY  "
            ],
            "text/html": [
              "\n",
              "  <div id=\"df-c6551228-bcf1-4289-abd3-e8be83d89e1b\">\n",
              "    <div class=\"colab-df-container\">\n",
              "      <div>\n",
              "<style scoped>\n",
              "    .dataframe tbody tr th:only-of-type {\n",
              "        vertical-align: middle;\n",
              "    }\n",
              "\n",
              "    .dataframe tbody tr th {\n",
              "        vertical-align: top;\n",
              "    }\n",
              "\n",
              "    .dataframe thead th {\n",
              "        text-align: right;\n",
              "    }\n",
              "</style>\n",
              "<table border=\"1\" class=\"dataframe\">\n",
              "  <thead>\n",
              "    <tr style=\"text-align: right;\">\n",
              "      <th></th>\n",
              "      <th>longitude</th>\n",
              "      <th>latitude</th>\n",
              "      <th>housing_median_age</th>\n",
              "      <th>total_rooms</th>\n",
              "      <th>total_bedrooms</th>\n",
              "      <th>population</th>\n",
              "      <th>households</th>\n",
              "      <th>median_income</th>\n",
              "      <th>median_house_value</th>\n",
              "      <th>ocean_proximity</th>\n",
              "    </tr>\n",
              "  </thead>\n",
              "  <tbody>\n",
              "    <tr>\n",
              "      <th>0</th>\n",
              "      <td>-122.23</td>\n",
              "      <td>37.88</td>\n",
              "      <td>41.0</td>\n",
              "      <td>880.0</td>\n",
              "      <td>129.0</td>\n",
              "      <td>322.0</td>\n",
              "      <td>126.0</td>\n",
              "      <td>8.3252</td>\n",
              "      <td>452600.0</td>\n",
              "      <td>NEAR BAY</td>\n",
              "    </tr>\n",
              "    <tr>\n",
              "      <th>1</th>\n",
              "      <td>-122.22</td>\n",
              "      <td>37.86</td>\n",
              "      <td>21.0</td>\n",
              "      <td>7099.0</td>\n",
              "      <td>1106.0</td>\n",
              "      <td>2401.0</td>\n",
              "      <td>1138.0</td>\n",
              "      <td>8.3014</td>\n",
              "      <td>358500.0</td>\n",
              "      <td>NEAR BAY</td>\n",
              "    </tr>\n",
              "    <tr>\n",
              "      <th>2</th>\n",
              "      <td>-122.24</td>\n",
              "      <td>37.85</td>\n",
              "      <td>52.0</td>\n",
              "      <td>1467.0</td>\n",
              "      <td>190.0</td>\n",
              "      <td>496.0</td>\n",
              "      <td>177.0</td>\n",
              "      <td>7.2574</td>\n",
              "      <td>352100.0</td>\n",
              "      <td>NEAR BAY</td>\n",
              "    </tr>\n",
              "    <tr>\n",
              "      <th>3</th>\n",
              "      <td>-122.25</td>\n",
              "      <td>37.85</td>\n",
              "      <td>52.0</td>\n",
              "      <td>1274.0</td>\n",
              "      <td>235.0</td>\n",
              "      <td>558.0</td>\n",
              "      <td>219.0</td>\n",
              "      <td>5.6431</td>\n",
              "      <td>341300.0</td>\n",
              "      <td>NEAR BAY</td>\n",
              "    </tr>\n",
              "    <tr>\n",
              "      <th>4</th>\n",
              "      <td>-122.25</td>\n",
              "      <td>37.85</td>\n",
              "      <td>52.0</td>\n",
              "      <td>1627.0</td>\n",
              "      <td>280.0</td>\n",
              "      <td>565.0</td>\n",
              "      <td>259.0</td>\n",
              "      <td>3.8462</td>\n",
              "      <td>342200.0</td>\n",
              "      <td>NEAR BAY</td>\n",
              "    </tr>\n",
              "  </tbody>\n",
              "</table>\n",
              "</div>\n",
              "      <button class=\"colab-df-convert\" onclick=\"convertToInteractive('df-c6551228-bcf1-4289-abd3-e8be83d89e1b')\"\n",
              "              title=\"Convert this dataframe to an interactive table.\"\n",
              "              style=\"display:none;\">\n",
              "        \n",
              "  <svg xmlns=\"http://www.w3.org/2000/svg\" height=\"24px\"viewBox=\"0 0 24 24\"\n",
              "       width=\"24px\">\n",
              "    <path d=\"M0 0h24v24H0V0z\" fill=\"none\"/>\n",
              "    <path d=\"M18.56 5.44l.94 2.06.94-2.06 2.06-.94-2.06-.94-.94-2.06-.94 2.06-2.06.94zm-11 1L8.5 8.5l.94-2.06 2.06-.94-2.06-.94L8.5 2.5l-.94 2.06-2.06.94zm10 10l.94 2.06.94-2.06 2.06-.94-2.06-.94-.94-2.06-.94 2.06-2.06.94z\"/><path d=\"M17.41 7.96l-1.37-1.37c-.4-.4-.92-.59-1.43-.59-.52 0-1.04.2-1.43.59L10.3 9.45l-7.72 7.72c-.78.78-.78 2.05 0 2.83L4 21.41c.39.39.9.59 1.41.59.51 0 1.02-.2 1.41-.59l7.78-7.78 2.81-2.81c.8-.78.8-2.07 0-2.86zM5.41 20L4 18.59l7.72-7.72 1.47 1.35L5.41 20z\"/>\n",
              "  </svg>\n",
              "      </button>\n",
              "      \n",
              "  <style>\n",
              "    .colab-df-container {\n",
              "      display:flex;\n",
              "      flex-wrap:wrap;\n",
              "      gap: 12px;\n",
              "    }\n",
              "\n",
              "    .colab-df-convert {\n",
              "      background-color: #E8F0FE;\n",
              "      border: none;\n",
              "      border-radius: 50%;\n",
              "      cursor: pointer;\n",
              "      display: none;\n",
              "      fill: #1967D2;\n",
              "      height: 32px;\n",
              "      padding: 0 0 0 0;\n",
              "      width: 32px;\n",
              "    }\n",
              "\n",
              "    .colab-df-convert:hover {\n",
              "      background-color: #E2EBFA;\n",
              "      box-shadow: 0px 1px 2px rgba(60, 64, 67, 0.3), 0px 1px 3px 1px rgba(60, 64, 67, 0.15);\n",
              "      fill: #174EA6;\n",
              "    }\n",
              "\n",
              "    [theme=dark] .colab-df-convert {\n",
              "      background-color: #3B4455;\n",
              "      fill: #D2E3FC;\n",
              "    }\n",
              "\n",
              "    [theme=dark] .colab-df-convert:hover {\n",
              "      background-color: #434B5C;\n",
              "      box-shadow: 0px 1px 3px 1px rgba(0, 0, 0, 0.15);\n",
              "      filter: drop-shadow(0px 1px 2px rgba(0, 0, 0, 0.3));\n",
              "      fill: #FFFFFF;\n",
              "    }\n",
              "  </style>\n",
              "\n",
              "      <script>\n",
              "        const buttonEl =\n",
              "          document.querySelector('#df-c6551228-bcf1-4289-abd3-e8be83d89e1b button.colab-df-convert');\n",
              "        buttonEl.style.display =\n",
              "          google.colab.kernel.accessAllowed ? 'block' : 'none';\n",
              "\n",
              "        async function convertToInteractive(key) {\n",
              "          const element = document.querySelector('#df-c6551228-bcf1-4289-abd3-e8be83d89e1b');\n",
              "          const dataTable =\n",
              "            await google.colab.kernel.invokeFunction('convertToInteractive',\n",
              "                                                     [key], {});\n",
              "          if (!dataTable) return;\n",
              "\n",
              "          const docLinkHtml = 'Like what you see? Visit the ' +\n",
              "            '<a target=\"_blank\" href=https://colab.research.google.com/notebooks/data_table.ipynb>data table notebook</a>'\n",
              "            + ' to learn more about interactive tables.';\n",
              "          element.innerHTML = '';\n",
              "          dataTable['output_type'] = 'display_data';\n",
              "          await google.colab.output.renderOutput(dataTable, element);\n",
              "          const docLink = document.createElement('div');\n",
              "          docLink.innerHTML = docLinkHtml;\n",
              "          element.appendChild(docLink);\n",
              "        }\n",
              "      </script>\n",
              "    </div>\n",
              "  </div>\n",
              "  "
            ]
          },
          "metadata": {},
          "execution_count": 301
        }
      ],
      "source": [
        "# Display the top 5 rows of the dataset:\n"
      ],
      "metadata": {
        "pycharm": {
          "name": "#%%\n"
        },
        "id": "QD6qMFxghYRw",
        "outputId": "ec683fd1-072c-4705-ac9c-1e7fcf4f5e78",
        "colab": {
          "base_uri": "https://localhost:8080/"
        }
      }
    },
    {
      "cell_type": "markdown",
      "source": [
        "That is it for today! Tomorrow we will focus on cleaning the data and making sure it is error free. Then we will move on to create actual ML models!"
      ],
      "metadata": {
        "collapsed": false,
        "pycharm": {
          "name": "#%% md\n"
        },
        "id": "g8a2enCjhYRw"
      }
    },
    {
      "cell_type": "markdown",
      "source": [
        "# Day 4"
      ],
      "metadata": {
        "collapsed": false,
        "pycharm": {
          "name": "#%% md\n"
        },
        "id": "_3kBprCNhYRw"
      }
    },
    {
      "cell_type": "markdown",
      "source": [
        "## Agenda\n",
        "\n",
        "* Taking a look ath the Data Structure\n",
        "* Creating a Test Set\n",
        "* Visualizing the Data\n",
        "* Looking for correlations\n",
        "* Creating new features\n",
        "* Cleaning the data"
      ],
      "metadata": {
        "collapsed": false,
        "pycharm": {
          "name": "#%% md\n"
        },
        "id": "3ycyHqTvhYRw"
      }
    },
    {
      "cell_type": "markdown",
      "source": [
        "## Taking a Look at the Data Structure"
      ],
      "metadata": {
        "collapsed": false,
        "pycharm": {
          "name": "#%% md\n"
        },
        "id": "tSUEU78ZhYRw"
      }
    },
    {
      "cell_type": "markdown",
      "source": [
        "Yesterday we looked at the ML pipeline and loaded the data we wanted to work with. Now lets take a look at the data structure. We can display the top 5 rows of the dataset using the `head()` method:"
      ],
      "metadata": {
        "collapsed": false,
        "pycharm": {
          "name": "#%% md\n"
        },
        "id": "4FYo288XhYRx"
      }
    },
    {
      "cell_type": "code",
      "execution_count": null,
      "outputs": [
        {
          "output_type": "execute_result",
          "data": {
            "text/plain": [
              "   longitude  latitude  housing_median_age  total_rooms  total_bedrooms  \\\n",
              "0    -122.23     37.88                41.0        880.0           129.0   \n",
              "1    -122.22     37.86                21.0       7099.0          1106.0   \n",
              "2    -122.24     37.85                52.0       1467.0           190.0   \n",
              "3    -122.25     37.85                52.0       1274.0           235.0   \n",
              "4    -122.25     37.85                52.0       1627.0           280.0   \n",
              "\n",
              "   population  households  median_income  median_house_value ocean_proximity  \n",
              "0       322.0       126.0         8.3252            452600.0        NEAR BAY  \n",
              "1      2401.0      1138.0         8.3014            358500.0        NEAR BAY  \n",
              "2       496.0       177.0         7.2574            352100.0        NEAR BAY  \n",
              "3       558.0       219.0         5.6431            341300.0        NEAR BAY  \n",
              "4       565.0       259.0         3.8462            342200.0        NEAR BAY  "
            ],
            "text/html": [
              "\n",
              "  <div id=\"df-70d76202-c972-431e-bcab-8d57889b4b2d\">\n",
              "    <div class=\"colab-df-container\">\n",
              "      <div>\n",
              "<style scoped>\n",
              "    .dataframe tbody tr th:only-of-type {\n",
              "        vertical-align: middle;\n",
              "    }\n",
              "\n",
              "    .dataframe tbody tr th {\n",
              "        vertical-align: top;\n",
              "    }\n",
              "\n",
              "    .dataframe thead th {\n",
              "        text-align: right;\n",
              "    }\n",
              "</style>\n",
              "<table border=\"1\" class=\"dataframe\">\n",
              "  <thead>\n",
              "    <tr style=\"text-align: right;\">\n",
              "      <th></th>\n",
              "      <th>longitude</th>\n",
              "      <th>latitude</th>\n",
              "      <th>housing_median_age</th>\n",
              "      <th>total_rooms</th>\n",
              "      <th>total_bedrooms</th>\n",
              "      <th>population</th>\n",
              "      <th>households</th>\n",
              "      <th>median_income</th>\n",
              "      <th>median_house_value</th>\n",
              "      <th>ocean_proximity</th>\n",
              "    </tr>\n",
              "  </thead>\n",
              "  <tbody>\n",
              "    <tr>\n",
              "      <th>0</th>\n",
              "      <td>-122.23</td>\n",
              "      <td>37.88</td>\n",
              "      <td>41.0</td>\n",
              "      <td>880.0</td>\n",
              "      <td>129.0</td>\n",
              "      <td>322.0</td>\n",
              "      <td>126.0</td>\n",
              "      <td>8.3252</td>\n",
              "      <td>452600.0</td>\n",
              "      <td>NEAR BAY</td>\n",
              "    </tr>\n",
              "    <tr>\n",
              "      <th>1</th>\n",
              "      <td>-122.22</td>\n",
              "      <td>37.86</td>\n",
              "      <td>21.0</td>\n",
              "      <td>7099.0</td>\n",
              "      <td>1106.0</td>\n",
              "      <td>2401.0</td>\n",
              "      <td>1138.0</td>\n",
              "      <td>8.3014</td>\n",
              "      <td>358500.0</td>\n",
              "      <td>NEAR BAY</td>\n",
              "    </tr>\n",
              "    <tr>\n",
              "      <th>2</th>\n",
              "      <td>-122.24</td>\n",
              "      <td>37.85</td>\n",
              "      <td>52.0</td>\n",
              "      <td>1467.0</td>\n",
              "      <td>190.0</td>\n",
              "      <td>496.0</td>\n",
              "      <td>177.0</td>\n",
              "      <td>7.2574</td>\n",
              "      <td>352100.0</td>\n",
              "      <td>NEAR BAY</td>\n",
              "    </tr>\n",
              "    <tr>\n",
              "      <th>3</th>\n",
              "      <td>-122.25</td>\n",
              "      <td>37.85</td>\n",
              "      <td>52.0</td>\n",
              "      <td>1274.0</td>\n",
              "      <td>235.0</td>\n",
              "      <td>558.0</td>\n",
              "      <td>219.0</td>\n",
              "      <td>5.6431</td>\n",
              "      <td>341300.0</td>\n",
              "      <td>NEAR BAY</td>\n",
              "    </tr>\n",
              "    <tr>\n",
              "      <th>4</th>\n",
              "      <td>-122.25</td>\n",
              "      <td>37.85</td>\n",
              "      <td>52.0</td>\n",
              "      <td>1627.0</td>\n",
              "      <td>280.0</td>\n",
              "      <td>565.0</td>\n",
              "      <td>259.0</td>\n",
              "      <td>3.8462</td>\n",
              "      <td>342200.0</td>\n",
              "      <td>NEAR BAY</td>\n",
              "    </tr>\n",
              "  </tbody>\n",
              "</table>\n",
              "</div>\n",
              "      <button class=\"colab-df-convert\" onclick=\"convertToInteractive('df-70d76202-c972-431e-bcab-8d57889b4b2d')\"\n",
              "              title=\"Convert this dataframe to an interactive table.\"\n",
              "              style=\"display:none;\">\n",
              "        \n",
              "  <svg xmlns=\"http://www.w3.org/2000/svg\" height=\"24px\"viewBox=\"0 0 24 24\"\n",
              "       width=\"24px\">\n",
              "    <path d=\"M0 0h24v24H0V0z\" fill=\"none\"/>\n",
              "    <path d=\"M18.56 5.44l.94 2.06.94-2.06 2.06-.94-2.06-.94-.94-2.06-.94 2.06-2.06.94zm-11 1L8.5 8.5l.94-2.06 2.06-.94-2.06-.94L8.5 2.5l-.94 2.06-2.06.94zm10 10l.94 2.06.94-2.06 2.06-.94-2.06-.94-.94-2.06-.94 2.06-2.06.94z\"/><path d=\"M17.41 7.96l-1.37-1.37c-.4-.4-.92-.59-1.43-.59-.52 0-1.04.2-1.43.59L10.3 9.45l-7.72 7.72c-.78.78-.78 2.05 0 2.83L4 21.41c.39.39.9.59 1.41.59.51 0 1.02-.2 1.41-.59l7.78-7.78 2.81-2.81c.8-.78.8-2.07 0-2.86zM5.41 20L4 18.59l7.72-7.72 1.47 1.35L5.41 20z\"/>\n",
              "  </svg>\n",
              "      </button>\n",
              "      \n",
              "  <style>\n",
              "    .colab-df-container {\n",
              "      display:flex;\n",
              "      flex-wrap:wrap;\n",
              "      gap: 12px;\n",
              "    }\n",
              "\n",
              "    .colab-df-convert {\n",
              "      background-color: #E8F0FE;\n",
              "      border: none;\n",
              "      border-radius: 50%;\n",
              "      cursor: pointer;\n",
              "      display: none;\n",
              "      fill: #1967D2;\n",
              "      height: 32px;\n",
              "      padding: 0 0 0 0;\n",
              "      width: 32px;\n",
              "    }\n",
              "\n",
              "    .colab-df-convert:hover {\n",
              "      background-color: #E2EBFA;\n",
              "      box-shadow: 0px 1px 2px rgba(60, 64, 67, 0.3), 0px 1px 3px 1px rgba(60, 64, 67, 0.15);\n",
              "      fill: #174EA6;\n",
              "    }\n",
              "\n",
              "    [theme=dark] .colab-df-convert {\n",
              "      background-color: #3B4455;\n",
              "      fill: #D2E3FC;\n",
              "    }\n",
              "\n",
              "    [theme=dark] .colab-df-convert:hover {\n",
              "      background-color: #434B5C;\n",
              "      box-shadow: 0px 1px 3px 1px rgba(0, 0, 0, 0.15);\n",
              "      filter: drop-shadow(0px 1px 2px rgba(0, 0, 0, 0.3));\n",
              "      fill: #FFFFFF;\n",
              "    }\n",
              "  </style>\n",
              "\n",
              "      <script>\n",
              "        const buttonEl =\n",
              "          document.querySelector('#df-70d76202-c972-431e-bcab-8d57889b4b2d button.colab-df-convert');\n",
              "        buttonEl.style.display =\n",
              "          google.colab.kernel.accessAllowed ? 'block' : 'none';\n",
              "\n",
              "        async function convertToInteractive(key) {\n",
              "          const element = document.querySelector('#df-70d76202-c972-431e-bcab-8d57889b4b2d');\n",
              "          const dataTable =\n",
              "            await google.colab.kernel.invokeFunction('convertToInteractive',\n",
              "                                                     [key], {});\n",
              "          if (!dataTable) return;\n",
              "\n",
              "          const docLinkHtml = 'Like what you see? Visit the ' +\n",
              "            '<a target=\"_blank\" href=https://colab.research.google.com/notebooks/data_table.ipynb>data table notebook</a>'\n",
              "            + ' to learn more about interactive tables.';\n",
              "          element.innerHTML = '';\n",
              "          dataTable['output_type'] = 'display_data';\n",
              "          await google.colab.output.renderOutput(dataTable, element);\n",
              "          const docLink = document.createElement('div');\n",
              "          docLink.innerHTML = docLinkHtml;\n",
              "          element.appendChild(docLink);\n",
              "        }\n",
              "      </script>\n",
              "    </div>\n",
              "  </div>\n",
              "  "
            ]
          },
          "metadata": {},
          "execution_count": 302
        }
      ],
      "source": [
        "# Display the top 5 rows of the dataset:\n",
        "data.head()"
      ],
      "metadata": {
        "pycharm": {
          "name": "#%%\n"
        },
        "id": "cIIA8AyuhYRx",
        "outputId": "a2a3e618-6675-473a-8d43-18a45efcc8ce",
        "colab": {
          "base_uri": "https://localhost:8080/",
          "height": 206
        }
      }
    },
    {
      "cell_type": "markdown",
      "source": [
        "Each row represents one district. There are 10 attributes: `longitude, latitude, housing_median_age, total_rooms, total_bedrooms, population, households, median_income, median_house_value`, and `ocean_proximity`."
      ],
      "metadata": {
        "collapsed": false,
        "pycharm": {
          "name": "#%% md\n"
        },
        "id": "AAvqUey3hYRx"
      }
    },
    {
      "cell_type": "markdown",
      "source": [
        "The `info()` method is also useful to get a quick description of the data, in particular the total number of rows, each attribute’s type, and the number of missing values:"
      ],
      "metadata": {
        "collapsed": false,
        "pycharm": {
          "name": "#%% md\n"
        },
        "id": "W8obFBu2hYRx"
      }
    },
    {
      "cell_type": "code",
      "execution_count": null,
      "outputs": [
        {
          "output_type": "stream",
          "name": "stdout",
          "text": [
            "<class 'pandas.core.frame.DataFrame'>\n",
            "RangeIndex: 20640 entries, 0 to 20639\n",
            "Data columns (total 10 columns):\n",
            " #   Column              Non-Null Count  Dtype  \n",
            "---  ------              --------------  -----  \n",
            " 0   longitude           20640 non-null  float64\n",
            " 1   latitude            20640 non-null  float64\n",
            " 2   housing_median_age  20640 non-null  float64\n",
            " 3   total_rooms         20640 non-null  float64\n",
            " 4   total_bedrooms      20433 non-null  float64\n",
            " 5   population          20640 non-null  float64\n",
            " 6   households          20640 non-null  float64\n",
            " 7   median_income       20640 non-null  float64\n",
            " 8   median_house_value  20640 non-null  float64\n",
            " 9   ocean_proximity     20640 non-null  object \n",
            "dtypes: float64(9), object(1)\n",
            "memory usage: 1.6+ MB\n"
          ]
        }
      ],
      "source": [
        "# Use the info() method to get a quick description of the data:\n"
      ],
      "metadata": {
        "pycharm": {
          "name": "#%%\n"
        },
        "id": "AKfMoYUNhYRx",
        "outputId": "3d676498-412b-4183-d437-4b3363362aa1",
        "colab": {
          "base_uri": "https://localhost:8080/"
        }
      }
    },
    {
      "cell_type": "markdown",
      "source": [
        "There are 20,640 instances in the dataset, which means that it is fairly small by Machine Learning standards, but it’s perfect to get started. Notice that the total_bedrooms attribute has only 20,433 nonnull values, meaning that 207 districts are missing this feature. We will need to take care of this later."
      ],
      "metadata": {
        "collapsed": false,
        "pycharm": {
          "name": "#%% md\n"
        },
        "id": "6ndx8G98hYRx"
      }
    },
    {
      "cell_type": "markdown",
      "source": [
        "All attributes are numerical, except the `ocean_proximity` field. The `ocean_proxomity` field is a categorical variable. This means that instead of the column containing numbers it contains a category. A common example of categorical variables are grades on a report card. \"A\" is the highest grade, followed by \"B\" and so on and so forth. Values like \"A\" and \"B\" are not numbers, but they are categories.\n",
        "\n",
        "You can find out what categories exist and how many districts belong to each category by using the `value_counts()` method:"
      ],
      "metadata": {
        "collapsed": false,
        "pycharm": {
          "name": "#%% md\n"
        },
        "id": "FQfAepa3hYRx"
      }
    },
    {
      "cell_type": "code",
      "execution_count": null,
      "outputs": [
        {
          "output_type": "execute_result",
          "data": {
            "text/plain": [
              "<1H OCEAN     9136\n",
              "INLAND        6551\n",
              "NEAR OCEAN    2658\n",
              "NEAR BAY      2290\n",
              "ISLAND           5\n",
              "Name: ocean_proximity, dtype: int64"
            ]
          },
          "metadata": {},
          "execution_count": 304
        }
      ],
      "source": [
        "# Get the number of categories and how many districts belong to each category:\n"
      ],
      "metadata": {
        "pycharm": {
          "name": "#%%\n"
        },
        "id": "6MOnyp4MhYRy",
        "outputId": "bb571f8f-a101-4e93-8218-3be83fa15870",
        "colab": {
          "base_uri": "https://localhost:8080/"
        }
      }
    },
    {
      "cell_type": "markdown",
      "source": [
        "Let’s look at the other fields. The `describe()` method shows a summary of the numerical attributes:"
      ],
      "metadata": {
        "collapsed": false,
        "pycharm": {
          "name": "#%% md\n"
        },
        "id": "92ixvsfShYRy"
      }
    },
    {
      "cell_type": "code",
      "execution_count": null,
      "outputs": [
        {
          "output_type": "execute_result",
          "data": {
            "text/plain": [
              "          longitude      latitude  housing_median_age   total_rooms  \\\n",
              "count  20640.000000  20640.000000        20640.000000  20640.000000   \n",
              "mean    -119.569704     35.631861           28.639486   2635.763081   \n",
              "std        2.003532      2.135952           12.585558   2181.615252   \n",
              "min     -124.350000     32.540000            1.000000      2.000000   \n",
              "25%     -121.800000     33.930000           18.000000   1447.750000   \n",
              "50%     -118.490000     34.260000           29.000000   2127.000000   \n",
              "75%     -118.010000     37.710000           37.000000   3148.000000   \n",
              "max     -114.310000     41.950000           52.000000  39320.000000   \n",
              "\n",
              "       total_bedrooms    population    households  median_income  \\\n",
              "count    20433.000000  20640.000000  20640.000000   20640.000000   \n",
              "mean       537.870553   1425.476744    499.539680       3.870671   \n",
              "std        421.385070   1132.462122    382.329753       1.899822   \n",
              "min          1.000000      3.000000      1.000000       0.499900   \n",
              "25%        296.000000    787.000000    280.000000       2.563400   \n",
              "50%        435.000000   1166.000000    409.000000       3.534800   \n",
              "75%        647.000000   1725.000000    605.000000       4.743250   \n",
              "max       6445.000000  35682.000000   6082.000000      15.000100   \n",
              "\n",
              "       median_house_value  \n",
              "count        20640.000000  \n",
              "mean        206855.816909  \n",
              "std         115395.615874  \n",
              "min          14999.000000  \n",
              "25%         119600.000000  \n",
              "50%         179700.000000  \n",
              "75%         264725.000000  \n",
              "max         500001.000000  "
            ],
            "text/html": [
              "\n",
              "  <div id=\"df-0c020529-84cd-482e-ba26-8c3d1edba385\">\n",
              "    <div class=\"colab-df-container\">\n",
              "      <div>\n",
              "<style scoped>\n",
              "    .dataframe tbody tr th:only-of-type {\n",
              "        vertical-align: middle;\n",
              "    }\n",
              "\n",
              "    .dataframe tbody tr th {\n",
              "        vertical-align: top;\n",
              "    }\n",
              "\n",
              "    .dataframe thead th {\n",
              "        text-align: right;\n",
              "    }\n",
              "</style>\n",
              "<table border=\"1\" class=\"dataframe\">\n",
              "  <thead>\n",
              "    <tr style=\"text-align: right;\">\n",
              "      <th></th>\n",
              "      <th>longitude</th>\n",
              "      <th>latitude</th>\n",
              "      <th>housing_median_age</th>\n",
              "      <th>total_rooms</th>\n",
              "      <th>total_bedrooms</th>\n",
              "      <th>population</th>\n",
              "      <th>households</th>\n",
              "      <th>median_income</th>\n",
              "      <th>median_house_value</th>\n",
              "    </tr>\n",
              "  </thead>\n",
              "  <tbody>\n",
              "    <tr>\n",
              "      <th>count</th>\n",
              "      <td>20640.000000</td>\n",
              "      <td>20640.000000</td>\n",
              "      <td>20640.000000</td>\n",
              "      <td>20640.000000</td>\n",
              "      <td>20433.000000</td>\n",
              "      <td>20640.000000</td>\n",
              "      <td>20640.000000</td>\n",
              "      <td>20640.000000</td>\n",
              "      <td>20640.000000</td>\n",
              "    </tr>\n",
              "    <tr>\n",
              "      <th>mean</th>\n",
              "      <td>-119.569704</td>\n",
              "      <td>35.631861</td>\n",
              "      <td>28.639486</td>\n",
              "      <td>2635.763081</td>\n",
              "      <td>537.870553</td>\n",
              "      <td>1425.476744</td>\n",
              "      <td>499.539680</td>\n",
              "      <td>3.870671</td>\n",
              "      <td>206855.816909</td>\n",
              "    </tr>\n",
              "    <tr>\n",
              "      <th>std</th>\n",
              "      <td>2.003532</td>\n",
              "      <td>2.135952</td>\n",
              "      <td>12.585558</td>\n",
              "      <td>2181.615252</td>\n",
              "      <td>421.385070</td>\n",
              "      <td>1132.462122</td>\n",
              "      <td>382.329753</td>\n",
              "      <td>1.899822</td>\n",
              "      <td>115395.615874</td>\n",
              "    </tr>\n",
              "    <tr>\n",
              "      <th>min</th>\n",
              "      <td>-124.350000</td>\n",
              "      <td>32.540000</td>\n",
              "      <td>1.000000</td>\n",
              "      <td>2.000000</td>\n",
              "      <td>1.000000</td>\n",
              "      <td>3.000000</td>\n",
              "      <td>1.000000</td>\n",
              "      <td>0.499900</td>\n",
              "      <td>14999.000000</td>\n",
              "    </tr>\n",
              "    <tr>\n",
              "      <th>25%</th>\n",
              "      <td>-121.800000</td>\n",
              "      <td>33.930000</td>\n",
              "      <td>18.000000</td>\n",
              "      <td>1447.750000</td>\n",
              "      <td>296.000000</td>\n",
              "      <td>787.000000</td>\n",
              "      <td>280.000000</td>\n",
              "      <td>2.563400</td>\n",
              "      <td>119600.000000</td>\n",
              "    </tr>\n",
              "    <tr>\n",
              "      <th>50%</th>\n",
              "      <td>-118.490000</td>\n",
              "      <td>34.260000</td>\n",
              "      <td>29.000000</td>\n",
              "      <td>2127.000000</td>\n",
              "      <td>435.000000</td>\n",
              "      <td>1166.000000</td>\n",
              "      <td>409.000000</td>\n",
              "      <td>3.534800</td>\n",
              "      <td>179700.000000</td>\n",
              "    </tr>\n",
              "    <tr>\n",
              "      <th>75%</th>\n",
              "      <td>-118.010000</td>\n",
              "      <td>37.710000</td>\n",
              "      <td>37.000000</td>\n",
              "      <td>3148.000000</td>\n",
              "      <td>647.000000</td>\n",
              "      <td>1725.000000</td>\n",
              "      <td>605.000000</td>\n",
              "      <td>4.743250</td>\n",
              "      <td>264725.000000</td>\n",
              "    </tr>\n",
              "    <tr>\n",
              "      <th>max</th>\n",
              "      <td>-114.310000</td>\n",
              "      <td>41.950000</td>\n",
              "      <td>52.000000</td>\n",
              "      <td>39320.000000</td>\n",
              "      <td>6445.000000</td>\n",
              "      <td>35682.000000</td>\n",
              "      <td>6082.000000</td>\n",
              "      <td>15.000100</td>\n",
              "      <td>500001.000000</td>\n",
              "    </tr>\n",
              "  </tbody>\n",
              "</table>\n",
              "</div>\n",
              "      <button class=\"colab-df-convert\" onclick=\"convertToInteractive('df-0c020529-84cd-482e-ba26-8c3d1edba385')\"\n",
              "              title=\"Convert this dataframe to an interactive table.\"\n",
              "              style=\"display:none;\">\n",
              "        \n",
              "  <svg xmlns=\"http://www.w3.org/2000/svg\" height=\"24px\"viewBox=\"0 0 24 24\"\n",
              "       width=\"24px\">\n",
              "    <path d=\"M0 0h24v24H0V0z\" fill=\"none\"/>\n",
              "    <path d=\"M18.56 5.44l.94 2.06.94-2.06 2.06-.94-2.06-.94-.94-2.06-.94 2.06-2.06.94zm-11 1L8.5 8.5l.94-2.06 2.06-.94-2.06-.94L8.5 2.5l-.94 2.06-2.06.94zm10 10l.94 2.06.94-2.06 2.06-.94-2.06-.94-.94-2.06-.94 2.06-2.06.94z\"/><path d=\"M17.41 7.96l-1.37-1.37c-.4-.4-.92-.59-1.43-.59-.52 0-1.04.2-1.43.59L10.3 9.45l-7.72 7.72c-.78.78-.78 2.05 0 2.83L4 21.41c.39.39.9.59 1.41.59.51 0 1.02-.2 1.41-.59l7.78-7.78 2.81-2.81c.8-.78.8-2.07 0-2.86zM5.41 20L4 18.59l7.72-7.72 1.47 1.35L5.41 20z\"/>\n",
              "  </svg>\n",
              "      </button>\n",
              "      \n",
              "  <style>\n",
              "    .colab-df-container {\n",
              "      display:flex;\n",
              "      flex-wrap:wrap;\n",
              "      gap: 12px;\n",
              "    }\n",
              "\n",
              "    .colab-df-convert {\n",
              "      background-color: #E8F0FE;\n",
              "      border: none;\n",
              "      border-radius: 50%;\n",
              "      cursor: pointer;\n",
              "      display: none;\n",
              "      fill: #1967D2;\n",
              "      height: 32px;\n",
              "      padding: 0 0 0 0;\n",
              "      width: 32px;\n",
              "    }\n",
              "\n",
              "    .colab-df-convert:hover {\n",
              "      background-color: #E2EBFA;\n",
              "      box-shadow: 0px 1px 2px rgba(60, 64, 67, 0.3), 0px 1px 3px 1px rgba(60, 64, 67, 0.15);\n",
              "      fill: #174EA6;\n",
              "    }\n",
              "\n",
              "    [theme=dark] .colab-df-convert {\n",
              "      background-color: #3B4455;\n",
              "      fill: #D2E3FC;\n",
              "    }\n",
              "\n",
              "    [theme=dark] .colab-df-convert:hover {\n",
              "      background-color: #434B5C;\n",
              "      box-shadow: 0px 1px 3px 1px rgba(0, 0, 0, 0.15);\n",
              "      filter: drop-shadow(0px 1px 2px rgba(0, 0, 0, 0.3));\n",
              "      fill: #FFFFFF;\n",
              "    }\n",
              "  </style>\n",
              "\n",
              "      <script>\n",
              "        const buttonEl =\n",
              "          document.querySelector('#df-0c020529-84cd-482e-ba26-8c3d1edba385 button.colab-df-convert');\n",
              "        buttonEl.style.display =\n",
              "          google.colab.kernel.accessAllowed ? 'block' : 'none';\n",
              "\n",
              "        async function convertToInteractive(key) {\n",
              "          const element = document.querySelector('#df-0c020529-84cd-482e-ba26-8c3d1edba385');\n",
              "          const dataTable =\n",
              "            await google.colab.kernel.invokeFunction('convertToInteractive',\n",
              "                                                     [key], {});\n",
              "          if (!dataTable) return;\n",
              "\n",
              "          const docLinkHtml = 'Like what you see? Visit the ' +\n",
              "            '<a target=\"_blank\" href=https://colab.research.google.com/notebooks/data_table.ipynb>data table notebook</a>'\n",
              "            + ' to learn more about interactive tables.';\n",
              "          element.innerHTML = '';\n",
              "          dataTable['output_type'] = 'display_data';\n",
              "          await google.colab.output.renderOutput(dataTable, element);\n",
              "          const docLink = document.createElement('div');\n",
              "          docLink.innerHTML = docLinkHtml;\n",
              "          element.appendChild(docLink);\n",
              "        }\n",
              "      </script>\n",
              "    </div>\n",
              "  </div>\n",
              "  "
            ]
          },
          "metadata": {},
          "execution_count": 305
        }
      ],
      "source": [
        "# Use the describe method to get statistical information:\n"
      ],
      "metadata": {
        "pycharm": {
          "name": "#%%\n"
        },
        "id": "7fWVTNauhYRy",
        "outputId": "6a067167-a154-46bd-f869-015a2bb3c099",
        "colab": {
          "base_uri": "https://localhost:8080/",
          "height": 300
        }
      }
    },
    {
      "cell_type": "markdown",
      "source": [
        "* The count tells us the number of values for each column (missing values are ignored).\n",
        "* `min` and `max` give us the lowest and highest values respectively.\n",
        "* The `mean` gives us the average value for each column"
      ],
      "metadata": {
        "collapsed": false,
        "pycharm": {
          "name": "#%% md\n"
        },
        "id": "ebonsHEfhYRy"
      }
    },
    {
      "cell_type": "markdown",
      "source": [
        "Another quick way to get a feel of the type of data you are dealing with is to plot a histogram for each numerical attribute. A histogram shows the number of instances (on the vertical axis) that have a given value range (on the horizontal axis). You can either plot this one attribute at a time, or you can call the `hist()` method on the whole dataset (as shown in the following code example), and it will plot a histogram for each numerical attribute."
      ],
      "metadata": {
        "collapsed": false,
        "pycharm": {
          "name": "#%% md\n"
        },
        "id": "xabZrqS7hYRy"
      }
    },
    {
      "cell_type": "code",
      "execution_count": null,
      "outputs": [
        {
          "output_type": "display_data",
          "data": {
            "text/plain": [
              "<Figure size 1440x1080 with 9 Axes>"
            ],
            "image/png": "[encoded data removed]"
          },
          "metadata": {
            "needs_background": "light"
          }
        }
      ],
      "source": [
        "# importing matplotlib:\n",
        "\n",
        "\n",
        "# Creating the histogram:\n",
        "\n",
        "\n",
        "# Display the plot:\n"
      ],
      "metadata": {
        "pycharm": {
          "name": "#%%\n"
        },
        "id": "QTvRuIThhYRy",
        "outputId": "159559aa-0d82-4afc-d1bf-02d53e72fd34",
        "colab": {
          "base_uri": "https://localhost:8080/",
          "height": 879
        }
      }
    },
    {
      "cell_type": "markdown",
      "source": [
        "We can now see histograms of all the numeric values. Hopefully you now have a better understanding of the kind of data you are dealing\n",
        "with."
      ],
      "metadata": {
        "collapsed": false,
        "pycharm": {
          "name": "#%% md\n"
        },
        "id": "yyseuAkbhYRy"
      }
    },
    {
      "cell_type": "markdown",
      "source": [
        "## Create a Test Set"
      ],
      "metadata": {
        "collapsed": false,
        "pycharm": {
          "name": "#%% md\n"
        },
        "id": "lNiWxAqShYRz"
      }
    },
    {
      "cell_type": "markdown",
      "source": [
        "Wait! Before you look at the data any further, you need to create a test set, put it aside, and never look at it. Like we discussed on Day 1, it is very important for us to create a test set. It allows us to evaluate our model in the end on data it has never seen before."
      ],
      "metadata": {
        "collapsed": false,
        "pycharm": {
          "name": "#%% md\n"
        },
        "id": "sSqgiXgFhYRz"
      }
    },
    {
      "cell_type": "markdown",
      "source": [
        "Creating a test set is theoretically simple: pick some instances randomly, typically 20% of the dataset, and set them aside. To do this we will be using the Scikit-Learn library.\n",
        "\n",
        "Scikit-Learn is a very commonly used library in Machine Learning. It is used from everything including data cleaning, processing and creating models. We will use this library a lot in this workshop.\n",
        "\n",
        "Lets look at how we create a test set using sklearn."
      ],
      "metadata": {
        "collapsed": false,
        "pycharm": {
          "name": "#%% md\n"
        },
        "id": "SUFKEOLYhYRz"
      }
    },
    {
      "cell_type": "code",
      "execution_count": null,
      "outputs": [],
      "source": [
        "# importing the train_test_split function from scikit learn\n",
        "\n",
        "\n",
        "# Creating a train and test set with 20% of the data for testing:\n",
        "train_set, test_set = "
      ],
      "metadata": {
        "pycharm": {
          "name": "#%%\n"
        },
        "id": "iCIAvV1AhYRz"
      }
    },
    {
      "cell_type": "markdown",
      "source": [
        "## Visualizing the Data"
      ],
      "metadata": {
        "collapsed": false,
        "pycharm": {
          "name": "#%% md\n"
        },
        "id": "Iir9w0jdhYRz"
      }
    },
    {
      "cell_type": "markdown",
      "source": [
        "So far you have only taken a quick glance at the data to get a general understanding of the kind of data you are manipulating. Now the goal is to go into a little more depth.\n"
      ],
      "metadata": {
        "collapsed": false,
        "pycharm": {
          "name": "#%% md\n"
        },
        "id": "9bKsiN5qhYRz"
      }
    },
    {
      "cell_type": "markdown",
      "source": [
        "### Visualizing Geographic Data"
      ],
      "metadata": {
        "collapsed": false,
        "pycharm": {
          "name": "#%% md\n"
        },
        "id": "zNPXafrLhYRz"
      }
    },
    {
      "cell_type": "markdown",
      "source": [
        "Since there is geographical information (latitude and longitude), it is a good idea to create a scatterplot of all districts to visualize the data. Pandas dataframes have inbuilt method to create plots. This makes the process super simple."
      ],
      "metadata": {
        "collapsed": false,
        "pycharm": {
          "name": "#%% md\n"
        },
        "id": "f5LDzYIyhYRz"
      }
    },
    {
      "cell_type": "code",
      "execution_count": null,
      "outputs": [
        {
          "output_type": "display_data",
          "data": {
            "text/plain": [
              "<Figure size 432x288 with 1 Axes>"
            ],
            "image/png": "[encoded data removed]"
          },
          "metadata": {
            "needs_background": "light"
          }
        }
      ],
      "source": [
        "# Creating a scatter plot of the latitudes and longitudes using pandas' inbuilt plot function:\n",
        "\n",
        "\n",
        "# Displaying the plot:\n"
      ],
      "metadata": {
        "pycharm": {
          "name": "#%%\n"
        },
        "id": "mcSU5niOhYRz",
        "outputId": "9391a42f-0379-4af6-9989-167cf7d7547c",
        "colab": {
          "base_uri": "https://localhost:8080/"
        }
      }
    },
    {
      "cell_type": "markdown",
      "source": [
        "As you can see, this plot resembles a map. It displays the state of California in the United States. Although we are able to see a rough map, we are not able to extract any other information. Setting the alpha option to 0.1 makes it much easier to visualize the places where there is a high density of data points."
      ],
      "metadata": {
        "collapsed": false,
        "pycharm": {
          "name": "#%% md\n"
        },
        "id": "eO4Diy42hYR0"
      }
    },
    {
      "cell_type": "code",
      "execution_count": null,
      "outputs": [
        {
          "output_type": "display_data",
          "data": {
            "text/plain": [
              "<Figure size 432x288 with 1 Axes>"
            ],
            "image/png": "[encoded data removed]"
          },
          "metadata": {
            "needs_background": "light"
          }
        }
      ],
      "source": [
        "# Creating a scatter plot with alpha set to 0.1\n",
        "\n",
        "\n",
        "# Display the plot:\n"
      ],
      "metadata": {
        "pycharm": {
          "name": "#%%\n"
        },
        "id": "GJ9GxyDZhYR0",
        "outputId": "98a20c1d-f23a-476a-8f1d-f3f714c55e1b",
        "colab": {
          "base_uri": "https://localhost:8080/"
        }
      }
    },
    {
      "cell_type": "markdown",
      "source": [
        "Now that’s much better: you can clearly see the high-density areas. But we can make this plot even more informative. We can color these points according to their prices. We can set the `c` attribute to do the same. We will also use the colormap called `jet`. This means that low values will be blue and large values will be red."
      ],
      "metadata": {
        "collapsed": false,
        "pycharm": {
          "name": "#%% md\n"
        },
        "id": "ZL3zB8nShYR0"
      }
    },
    {
      "cell_type": "code",
      "execution_count": null,
      "outputs": [
        {
          "output_type": "display_data",
          "data": {
            "text/plain": [
              "<Figure size 432x288 with 2 Axes>"
            ],
            "image/png": "[encoded data removed]"
          },
          "metadata": {
            "needs_background": "light"
          }
        }
      ],
      "source": [
        "# Creating a scatter plot with alpha set to 0.1\n",
        "\n",
        "\n",
        "# Display the plot:\n"
      ],
      "metadata": {
        "pycharm": {
          "name": "#%%\n"
        },
        "id": "pcPwTC8ChYR0",
        "outputId": "eba7b90e-3900-49a8-817b-dc939a458160",
        "colab": {
          "base_uri": "https://localhost:8080/"
        }
      }
    },
    {
      "cell_type": "markdown",
      "source": [
        "From this graph you can clearly see some nice patterns. For example, it is evident that the housing prices increase the closer we move towards the ocean."
      ],
      "metadata": {
        "collapsed": false,
        "pycharm": {
          "name": "#%% md\n"
        },
        "id": "nkNRhdjohYR0"
      }
    },
    {
      "cell_type": "markdown",
      "source": [
        "## Looking for Correlations"
      ],
      "metadata": {
        "collapsed": false,
        "pycharm": {
          "name": "#%% md\n"
        },
        "id": "yOMWY7NuhYR0"
      }
    },
    {
      "cell_type": "markdown",
      "source": [
        "In ML it is very common to look for correlations between variables. Correlation simply means how related two variables are. A positive correlation indicates that as one variable increases the other increases too. A negative correlation indicates that as one variable increases the other one decreases. A correlation close to 0 indicates no linear relation between the variables.\n",
        "\n",
        "Now let’s look at how much each attribute correlates with the median house value:\n"
      ],
      "metadata": {
        "collapsed": false,
        "pycharm": {
          "name": "#%% md\n"
        },
        "id": "rk1ODqybhYR1"
      }
    },
    {
      "cell_type": "code",
      "execution_count": null,
      "outputs": [
        {
          "output_type": "execute_result",
          "data": {
            "text/plain": [
              "median_house_value    1.000000\n",
              "median_income         0.690647\n",
              "total_rooms           0.133989\n",
              "housing_median_age    0.103706\n",
              "households            0.063714\n",
              "total_bedrooms        0.047980\n",
              "population           -0.026032\n",
              "longitude            -0.046349\n",
              "latitude             -0.142983\n",
              "Name: median_house_value, dtype: float64"
            ]
          },
          "metadata": {},
          "execution_count": 311
        }
      ],
      "source": [
        "# Calculating the correlations for the whole dataset:\n",
        "\n",
        "\n",
        "# Checking the correlation for all attributes with the house values:\n"
      ],
      "metadata": {
        "pycharm": {
          "name": "#%%\n"
        },
        "id": "e7nQ607bhYR1",
        "outputId": "5e408443-9175-4e00-8ab2-f652cc75b5af",
        "colab": {
          "base_uri": "https://localhost:8080/"
        }
      }
    },
    {
      "cell_type": "markdown",
      "source": [
        "We can clearly see that some attributes are heavily correlated with the price. The average income of the area is positively correlated with the price of the houses in the region. This makes sense because rich people live in expensive houses."
      ],
      "metadata": {
        "collapsed": false,
        "pycharm": {
          "name": "#%% md\n"
        },
        "id": "Nrk3qnXWhYR1"
      }
    },
    {
      "cell_type": "markdown",
      "source": [
        "Another way to check for correlation between attributes is to use the pandas `scatter_matrix()` function, which plots every numerical attribute against every other numerical attribute. Since there are now 11 numerical attributes, you would get 11^2 = 121 plots, which would not fit on a page—so let’s just focus on a few promising attributes that seem most correlated with the median housing value"
      ],
      "metadata": {
        "collapsed": false,
        "pycharm": {
          "name": "#%% md\n"
        },
        "id": "egB-g3kAhYR1"
      }
    },
    {
      "cell_type": "code",
      "execution_count": null,
      "outputs": [
        {
          "output_type": "display_data",
          "data": {
            "text/plain": [
              "<Figure size 864x576 with 16 Axes>"
            ],
            "image/png": "[encoded data removed]"
          },
          "metadata": {
            "needs_background": "light"
          }
        }
      ],
      "source": [
        "# importing the scatter_matrix function from pandas.plotting:\n",
        "\n",
        "\n",
        "# selecting the attributes we want to focus on:\n",
        "\n",
        "\n",
        "# Creating the scatter matrix with the given attrobutes:\n",
        "\n",
        "\n",
        "# Displaying the plot:\n"
      ],
      "metadata": {
        "pycharm": {
          "name": "#%%\n"
        },
        "id": "hxK3UM7vhYR1",
        "outputId": "e6bcda7d-6cb4-4241-c673-5f1117144717",
        "colab": {
          "base_uri": "https://localhost:8080/",
          "height": 518
        }
      }
    },
    {
      "cell_type": "markdown",
      "source": [
        "This plot gives us even more information. It also proves our analysis that houses in regions where the price is high are more expensive. If you look at the scatter matrix between `median_income` and `median_house_value`, we can clearly see that as the income increases the prices alo increase."
      ],
      "metadata": {
        "collapsed": false,
        "pycharm": {
          "name": "#%% md\n"
        },
        "id": "G9TFN2luhYR1"
      }
    },
    {
      "cell_type": "markdown",
      "source": [
        "## Prepare the Data for Machine Learning Algorithms"
      ],
      "metadata": {
        "collapsed": false,
        "pycharm": {
          "name": "#%% md\n"
        },
        "id": "4ogxQsjFhYR3"
      }
    },
    {
      "cell_type": "markdown",
      "source": [
        "It’s time to prepare the data for your Machine Learning algorithms. Instead of doing this manually, you should write functions for this purpose, for several good reasons:\n",
        "\n",
        "* This will allow you to reproduce these transformations easily on any dataset (e.g., the next time you get a fresh dataset).\n",
        "* You will gradually build a library of transformation functions that you can reuse in future projects.\n"
      ],
      "metadata": {
        "collapsed": false,
        "pycharm": {
          "name": "#%% md\n"
        },
        "id": "3oqtkpQihYR3"
      }
    },
    {
      "cell_type": "markdown",
      "source": [
        "Before cleaning the data it is important that we seperate the labels in the data from the features. So lets seperate the two so that we dont make changes to the labels by mistake:"
      ],
      "metadata": {
        "id": "Q-5LMkfqZX1X"
      }
    },
    {
      "cell_type": "code",
      "source": [
        "#Creating the train_set labels by selecting only the median_housing_price:\n",
        "train_set_labels = train_set[\"median_house_value\"]\n",
        "\n",
        "# Creating the train_set features by dropping the median_housing_price:\n",
        "train_set = train_set.drop(\"median_house_value\", axis=1)\n",
        "\n",
        "\n",
        "#Creating the test_set labels by selecting only the median_housing_price:\n",
        "test_set_labels = test_set[\"median_house_value\"]\n",
        "\n",
        "# Creating the test_set features by dropping the median_housing_price:\n",
        "test_set = test_set.drop(\"median_house_value\", axis=1)"
      ],
      "metadata": {
        "id": "HyHZXN3XZiXc"
      },
      "execution_count": null,
      "outputs": []
    },
    {
      "cell_type": "markdown",
      "source": [
        "### Data Cleaning"
      ],
      "metadata": {
        "collapsed": false,
        "pycharm": {
          "name": "#%% md\n"
        },
        "id": "VV1c4ObRhYR3"
      }
    },
    {
      "cell_type": "markdown",
      "source": [
        "Most Machine Learning algorithms cannot work with missing features, so let’s create a few functions to take care of them. We saw earlier that the total_bedrooms attribute has some missing values, so let’s fix this. You have three options:\n",
        "1. Get rid of the corresponding districts.\n",
        "2. Get rid of the whole attribute.\n",
        "3. Set the values to some value (zero, the mean, the median, etc.).\n"
      ],
      "metadata": {
        "collapsed": false,
        "pycharm": {
          "name": "#%% md\n"
        },
        "id": "Now4TQdihYR3"
      }
    },
    {
      "cell_type": "markdown",
      "source": [
        "Scikit-Learn provides a handy class to take care of missing values: SimpleImputer.\n",
        "Here is how to use it. First, you need to create a SimpleImputer instance, specifying\n",
        "that you want to replace each attribute’s missing values with the median of that\n",
        "attribute:"
      ],
      "metadata": {
        "collapsed": false,
        "pycharm": {
          "name": "#%% md\n"
        },
        "id": "1tYoNMxzhYR3"
      }
    },
    {
      "cell_type": "code",
      "execution_count": null,
      "outputs": [],
      "source": [
        "# import SimpleImputer from sklearn.impute:\n",
        "\n",
        "\n",
        "# Initialize the Imputer with strategy median:\n"
      ],
      "metadata": {
        "pycharm": {
          "name": "#%%\n"
        },
        "id": "dP5PqTZhhYR3"
      }
    },
    {
      "cell_type": "markdown",
      "source": [
        "Since the median can only be computed on numerical attributes, you need to create a copy of the data without the text attribute ocean_proximity:"
      ],
      "metadata": {
        "collapsed": false,
        "pycharm": {
          "name": "#%% md\n"
        },
        "id": "PhS02yyKhYR3"
      }
    },
    {
      "cell_type": "code",
      "execution_count": null,
      "outputs": [],
      "source": [
        "# Creating a copy of train_set containing only numeric attributes:\n",
        "train_set_num = "
      ],
      "metadata": {
        "pycharm": {
          "name": "#%%\n"
        },
        "id": "Pl4FFMkZhYR3"
      }
    },
    {
      "cell_type": "markdown",
      "source": [
        "Now you can fit the imputer instance to the training data using the fit() method:"
      ],
      "metadata": {
        "collapsed": false,
        "pycharm": {
          "name": "#%% md\n"
        },
        "id": "Qk7SEYrMhYR4"
      }
    },
    {
      "cell_type": "code",
      "execution_count": null,
      "outputs": [
        {
          "output_type": "execute_result",
          "data": {
            "text/plain": [
              "SimpleImputer(strategy='median')"
            ]
          },
          "metadata": {},
          "execution_count": 316
        }
      ],
      "source": [
        "# Fitting the imputer to the data:\n"
      ],
      "metadata": {
        "pycharm": {
          "name": "#%%\n"
        },
        "id": "yX8yePFWhYR4",
        "outputId": "318c0905-479b-4406-f997-6f3240c31aef",
        "colab": {
          "base_uri": "https://localhost:8080/"
        }
      }
    },
    {
      "cell_type": "markdown",
      "source": [
        "Now you can use this “trained” imputer to transform the training set by replacing\n",
        "missing values with the learned medians:\n"
      ],
      "metadata": {
        "id": "bCdeHPaohsMl"
      }
    },
    {
      "cell_type": "code",
      "execution_count": null,
      "outputs": [],
      "source": [
        "# Use the trained imputer to transform data:\n",
        "X = "
      ],
      "metadata": {
        "pycharm": {
          "name": "#%%\n"
        },
        "id": "572LQxJFhYR4"
      }
    },
    {
      "cell_type": "markdown",
      "source": [
        "### Handling Text and Categorical Attributes\n"
      ],
      "metadata": {
        "id": "ZO3dq0c9hzrI"
      }
    },
    {
      "cell_type": "markdown",
      "source": [
        "So far we have only dealt with numerical attributes, but now let’s look at text\n",
        "attributes. In this dataset, there is just one: the ocean_proximity attribute. Let’s look\n",
        "at its value for the first 10 instances:\n"
      ],
      "metadata": {
        "id": "gd7K9uS7h6ot"
      }
    },
    {
      "cell_type": "code",
      "source": [
        "# Creating a copy of the training data with just categorical attributes (ocean_proximity)\n",
        "train_set_cat = \n",
        "\n",
        "# Getting the top 10 rows of the new data:\n",
        "train_set_cat.head(10)"
      ],
      "metadata": {
        "id": "Dama7KzqhvnJ",
        "outputId": "4243efb7-fb2e-4c3f-f14d-02bce62513df",
        "colab": {
          "base_uri": "https://localhost:8080/",
          "height": 363
        }
      },
      "execution_count": null,
      "outputs": [
        {
          "output_type": "execute_result",
          "data": {
            "text/plain": [
              "      ocean_proximity\n",
              "14196      NEAR OCEAN\n",
              "8267       NEAR OCEAN\n",
              "17445      NEAR OCEAN\n",
              "14265      NEAR OCEAN\n",
              "2271           INLAND\n",
              "17848       <1H OCEAN\n",
              "6252        <1H OCEAN\n",
              "9389         NEAR BAY\n",
              "6113        <1H OCEAN\n",
              "6061        <1H OCEAN"
            ],
            "text/html": [
              "\n",
              "  <div id=\"df-28d83ef8-4aa3-4a3c-9159-f96f76eedfc5\">\n",
              "    <div class=\"colab-df-container\">\n",
              "      <div>\n",
              "<style scoped>\n",
              "    .dataframe tbody tr th:only-of-type {\n",
              "        vertical-align: middle;\n",
              "    }\n",
              "\n",
              "    .dataframe tbody tr th {\n",
              "        vertical-align: top;\n",
              "    }\n",
              "\n",
              "    .dataframe thead th {\n",
              "        text-align: right;\n",
              "    }\n",
              "</style>\n",
              "<table border=\"1\" class=\"dataframe\">\n",
              "  <thead>\n",
              "    <tr style=\"text-align: right;\">\n",
              "      <th></th>\n",
              "      <th>ocean_proximity</th>\n",
              "    </tr>\n",
              "  </thead>\n",
              "  <tbody>\n",
              "    <tr>\n",
              "      <th>14196</th>\n",
              "      <td>NEAR OCEAN</td>\n",
              "    </tr>\n",
              "    <tr>\n",
              "      <th>8267</th>\n",
              "      <td>NEAR OCEAN</td>\n",
              "    </tr>\n",
              "    <tr>\n",
              "      <th>17445</th>\n",
              "      <td>NEAR OCEAN</td>\n",
              "    </tr>\n",
              "    <tr>\n",
              "      <th>14265</th>\n",
              "      <td>NEAR OCEAN</td>\n",
              "    </tr>\n",
              "    <tr>\n",
              "      <th>2271</th>\n",
              "      <td>INLAND</td>\n",
              "    </tr>\n",
              "    <tr>\n",
              "      <th>17848</th>\n",
              "      <td>&lt;1H OCEAN</td>\n",
              "    </tr>\n",
              "    <tr>\n",
              "      <th>6252</th>\n",
              "      <td>&lt;1H OCEAN</td>\n",
              "    </tr>\n",
              "    <tr>\n",
              "      <th>9389</th>\n",
              "      <td>NEAR BAY</td>\n",
              "    </tr>\n",
              "    <tr>\n",
              "      <th>6113</th>\n",
              "      <td>&lt;1H OCEAN</td>\n",
              "    </tr>\n",
              "    <tr>\n",
              "      <th>6061</th>\n",
              "      <td>&lt;1H OCEAN</td>\n",
              "    </tr>\n",
              "  </tbody>\n",
              "</table>\n",
              "</div>\n",
              "      <button class=\"colab-df-convert\" onclick=\"convertToInteractive('df-28d83ef8-4aa3-4a3c-9159-f96f76eedfc5')\"\n",
              "              title=\"Convert this dataframe to an interactive table.\"\n",
              "              style=\"display:none;\">\n",
              "        \n",
              "  <svg xmlns=\"http://www.w3.org/2000/svg\" height=\"24px\"viewBox=\"0 0 24 24\"\n",
              "       width=\"24px\">\n",
              "    <path d=\"M0 0h24v24H0V0z\" fill=\"none\"/>\n",
              "    <path d=\"M18.56 5.44l.94 2.06.94-2.06 2.06-.94-2.06-.94-.94-2.06-.94 2.06-2.06.94zm-11 1L8.5 8.5l.94-2.06 2.06-.94-2.06-.94L8.5 2.5l-.94 2.06-2.06.94zm10 10l.94 2.06.94-2.06 2.06-.94-2.06-.94-.94-2.06-.94 2.06-2.06.94z\"/><path d=\"M17.41 7.96l-1.37-1.37c-.4-.4-.92-.59-1.43-.59-.52 0-1.04.2-1.43.59L10.3 9.45l-7.72 7.72c-.78.78-.78 2.05 0 2.83L4 21.41c.39.39.9.59 1.41.59.51 0 1.02-.2 1.41-.59l7.78-7.78 2.81-2.81c.8-.78.8-2.07 0-2.86zM5.41 20L4 18.59l7.72-7.72 1.47 1.35L5.41 20z\"/>\n",
              "  </svg>\n",
              "      </button>\n",
              "      \n",
              "  <style>\n",
              "    .colab-df-container {\n",
              "      display:flex;\n",
              "      flex-wrap:wrap;\n",
              "      gap: 12px;\n",
              "    }\n",
              "\n",
              "    .colab-df-convert {\n",
              "      background-color: #E8F0FE;\n",
              "      border: none;\n",
              "      border-radius: 50%;\n",
              "      cursor: pointer;\n",
              "      display: none;\n",
              "      fill: #1967D2;\n",
              "      height: 32px;\n",
              "      padding: 0 0 0 0;\n",
              "      width: 32px;\n",
              "    }\n",
              "\n",
              "    .colab-df-convert:hover {\n",
              "      background-color: #E2EBFA;\n",
              "      box-shadow: 0px 1px 2px rgba(60, 64, 67, 0.3), 0px 1px 3px 1px rgba(60, 64, 67, 0.15);\n",
              "      fill: #174EA6;\n",
              "    }\n",
              "\n",
              "    [theme=dark] .colab-df-convert {\n",
              "      background-color: #3B4455;\n",
              "      fill: #D2E3FC;\n",
              "    }\n",
              "\n",
              "    [theme=dark] .colab-df-convert:hover {\n",
              "      background-color: #434B5C;\n",
              "      box-shadow: 0px 1px 3px 1px rgba(0, 0, 0, 0.15);\n",
              "      filter: drop-shadow(0px 1px 2px rgba(0, 0, 0, 0.3));\n",
              "      fill: #FFFFFF;\n",
              "    }\n",
              "  </style>\n",
              "\n",
              "      <script>\n",
              "        const buttonEl =\n",
              "          document.querySelector('#df-28d83ef8-4aa3-4a3c-9159-f96f76eedfc5 button.colab-df-convert');\n",
              "        buttonEl.style.display =\n",
              "          google.colab.kernel.accessAllowed ? 'block' : 'none';\n",
              "\n",
              "        async function convertToInteractive(key) {\n",
              "          const element = document.querySelector('#df-28d83ef8-4aa3-4a3c-9159-f96f76eedfc5');\n",
              "          const dataTable =\n",
              "            await google.colab.kernel.invokeFunction('convertToInteractive',\n",
              "                                                     [key], {});\n",
              "          if (!dataTable) return;\n",
              "\n",
              "          const docLinkHtml = 'Like what you see? Visit the ' +\n",
              "            '<a target=\"_blank\" href=https://colab.research.google.com/notebooks/data_table.ipynb>data table notebook</a>'\n",
              "            + ' to learn more about interactive tables.';\n",
              "          element.innerHTML = '';\n",
              "          dataTable['output_type'] = 'display_data';\n",
              "          await google.colab.output.renderOutput(dataTable, element);\n",
              "          const docLink = document.createElement('div');\n",
              "          docLink.innerHTML = docLinkHtml;\n",
              "          element.appendChild(docLink);\n",
              "        }\n",
              "      </script>\n",
              "    </div>\n",
              "  </div>\n",
              "  "
            ]
          },
          "metadata": {},
          "execution_count": 318
        }
      ]
    },
    {
      "cell_type": "markdown",
      "source": [
        "It’s not arbitrary text: there are a limited number of possible values, each of which\n",
        "represents a category. So this attribute is a categorical attribute. Most Machine Learn‐\n",
        "ing algorithms prefer to work with numbers, so let’s convert these categories from\n",
        "text to numbers. For this, we can use Scikit-Learn’s OrdinalEncoder class:"
      ],
      "metadata": {
        "id": "oBIm0lN8i2pE"
      }
    },
    {
      "cell_type": "code",
      "source": [
        "# importing OrdinalEncoder from sklearn.preprocessing:\n",
        "\n",
        "\n",
        "# Initializing the encoder:\n",
        "\n",
        "\n",
        "# Fitting the encoder to the data:\n",
        "\n",
        "\n",
        "# Transforming the data using the same encoder:\n",
        "\n",
        "\n",
        "# Get the first 10 values from the encoded data:\n"
      ],
      "metadata": {
        "id": "4ESHphLqiy0m",
        "outputId": "71d0f879-ac3f-4422-d606-18912c77dafd",
        "colab": {
          "base_uri": "https://localhost:8080/"
        }
      },
      "execution_count": null,
      "outputs": [
        {
          "output_type": "execute_result",
          "data": {
            "text/plain": [
              "array([[4.],\n",
              "       [4.],\n",
              "       [4.],\n",
              "       [4.],\n",
              "       [1.],\n",
              "       [0.],\n",
              "       [0.],\n",
              "       [3.],\n",
              "       [0.],\n",
              "       [0.]])"
            ]
          },
          "metadata": {},
          "execution_count": 319
        }
      ]
    },
    {
      "cell_type": "markdown",
      "source": [
        "As we can see, every category in the column has been assigned a number! Now the ML algorithm can understand the categorical column"
      ],
      "metadata": {
        "id": "AjN2DzIkjhs_"
      }
    },
    {
      "cell_type": "markdown",
      "source": [
        "## Scaling Features"
      ],
      "metadata": {
        "id": "8QTSvtwPrX0d"
      }
    },
    {
      "cell_type": "markdown",
      "source": [
        "One of the most important transformations you need to apply to your data is feature\n",
        "scaling. With few exceptions, Machine Learning algorithms don’t perform well when\n",
        "the input numerical attributes have very different scales. This is the case for the hous‐\n",
        "ing data: the total number of rooms ranges from about 6 to 39,320, while the median\n",
        "incomes only range from 0 to 15."
      ],
      "metadata": {
        "id": "5mKKnvqKsA8i"
      }
    },
    {
      "cell_type": "markdown",
      "source": [
        "Min-max scaling is the simplest way to scale your data: values are shifted and rescaled so that they end up ranging from 0 to 1. Scikit-Learn provides a transformer called MinMaxScaler for this."
      ],
      "metadata": {
        "id": "fnXLwRY-sEOS"
      }
    },
    {
      "cell_type": "code",
      "source": [
        "# importing MinMaxScaler from sklearn.preprocessing:\n",
        "\n",
        "\n",
        "# Initialising the scaler:\n",
        "\n",
        "\n",
        "# Fitting the scaler to the data:\n",
        "\n",
        "\n",
        "# Transforming the data:\n"
      ],
      "metadata": {
        "id": "T2eVXLCajel_"
      },
      "execution_count": null,
      "outputs": []
    },
    {
      "cell_type": "markdown",
      "source": [
        "If we take a look at the dataframe now, we should see that all the values are between 0 and 1:"
      ],
      "metadata": {
        "id": "MB40Zh04TEq5"
      }
    },
    {
      "cell_type": "code",
      "source": [
        "# Taking a look at the scaled outputs:\n",
        "pd.DataFrame(train_set_num_scaled, columns=train_set_num.columns)"
      ],
      "metadata": {
        "id": "wdzN3K0QNe5j",
        "colab": {
          "base_uri": "https://localhost:8080/",
          "height": 424
        },
        "outputId": "4305cc1c-bfc6-4163-c71b-f7111f311c99"
      },
      "execution_count": null,
      "outputs": [
        {
          "output_type": "execute_result",
          "data": {
            "text/plain": [
              "       longitude  latitude  housing_median_age  total_rooms  total_bedrooms  \\\n",
              "0       0.729084  0.017021            0.627451     0.079455        0.097145   \n",
              "1       0.616534  0.129787            0.941176     0.085966        0.121974   \n",
              "2       0.385458  0.224468            0.058824     0.048197        0.051210   \n",
              "3       0.721116  0.014894            0.686275     0.036090        0.056797   \n",
              "4       0.453187  0.450000            0.823529     0.060532        0.066729   \n",
              "...          ...       ...                 ...          ...             ...   \n",
              "16507   0.636454  0.130851            0.666667     0.033776        0.031037   \n",
              "16508   0.689243  0.156383            0.627451     0.078386        0.088299   \n",
              "16509   0.594622  0.157447            0.686275     0.053385        0.088144   \n",
              "16510   0.238048  0.535106            0.274510     0.090874        0.092489   \n",
              "16511   0.192231  0.555319            1.000000     0.107432        0.203911   \n",
              "\n",
              "       population  households  median_income  \n",
              "0        0.064380    0.102286       0.190322  \n",
              "1        0.036744    0.124157       0.228452  \n",
              "2        0.025561    0.055090       0.252162  \n",
              "3        0.039659    0.058214       0.099488  \n",
              "4        0.024412    0.062325       0.210638  \n",
              "...           ...         ...            ...  \n",
              "16507    0.018358    0.035520       0.404829  \n",
              "16508    0.049048    0.073672       0.175867  \n",
              "16509    0.049133    0.086499       0.167894  \n",
              "16510    0.049721    0.091761       0.359947  \n",
              "16511    0.073320    0.204078       0.143143  \n",
              "\n",
              "[16512 rows x 8 columns]"
            ],
            "text/html": [
              "\n",
              "  <div id=\"df-6bd0b9cf-8e87-4937-858e-1f7ed783f68f\">\n",
              "    <div class=\"colab-df-container\">\n",
              "      <div>\n",
              "<style scoped>\n",
              "    .dataframe tbody tr th:only-of-type {\n",
              "        vertical-align: middle;\n",
              "    }\n",
              "\n",
              "    .dataframe tbody tr th {\n",
              "        vertical-align: top;\n",
              "    }\n",
              "\n",
              "    .dataframe thead th {\n",
              "        text-align: right;\n",
              "    }\n",
              "</style>\n",
              "<table border=\"1\" class=\"dataframe\">\n",
              "  <thead>\n",
              "    <tr style=\"text-align: right;\">\n",
              "      <th></th>\n",
              "      <th>longitude</th>\n",
              "      <th>latitude</th>\n",
              "      <th>housing_median_age</th>\n",
              "      <th>total_rooms</th>\n",
              "      <th>total_bedrooms</th>\n",
              "      <th>population</th>\n",
              "      <th>households</th>\n",
              "      <th>median_income</th>\n",
              "    </tr>\n",
              "  </thead>\n",
              "  <tbody>\n",
              "    <tr>\n",
              "      <th>0</th>\n",
              "      <td>0.729084</td>\n",
              "      <td>0.017021</td>\n",
              "      <td>0.627451</td>\n",
              "      <td>0.079455</td>\n",
              "      <td>0.097145</td>\n",
              "      <td>0.064380</td>\n",
              "      <td>0.102286</td>\n",
              "      <td>0.190322</td>\n",
              "    </tr>\n",
              "    <tr>\n",
              "      <th>1</th>\n",
              "      <td>0.616534</td>\n",
              "      <td>0.129787</td>\n",
              "      <td>0.941176</td>\n",
              "      <td>0.085966</td>\n",
              "      <td>0.121974</td>\n",
              "      <td>0.036744</td>\n",
              "      <td>0.124157</td>\n",
              "      <td>0.228452</td>\n",
              "    </tr>\n",
              "    <tr>\n",
              "      <th>2</th>\n",
              "      <td>0.385458</td>\n",
              "      <td>0.224468</td>\n",
              "      <td>0.058824</td>\n",
              "      <td>0.048197</td>\n",
              "      <td>0.051210</td>\n",
              "      <td>0.025561</td>\n",
              "      <td>0.055090</td>\n",
              "      <td>0.252162</td>\n",
              "    </tr>\n",
              "    <tr>\n",
              "      <th>3</th>\n",
              "      <td>0.721116</td>\n",
              "      <td>0.014894</td>\n",
              "      <td>0.686275</td>\n",
              "      <td>0.036090</td>\n",
              "      <td>0.056797</td>\n",
              "      <td>0.039659</td>\n",
              "      <td>0.058214</td>\n",
              "      <td>0.099488</td>\n",
              "    </tr>\n",
              "    <tr>\n",
              "      <th>4</th>\n",
              "      <td>0.453187</td>\n",
              "      <td>0.450000</td>\n",
              "      <td>0.823529</td>\n",
              "      <td>0.060532</td>\n",
              "      <td>0.066729</td>\n",
              "      <td>0.024412</td>\n",
              "      <td>0.062325</td>\n",
              "      <td>0.210638</td>\n",
              "    </tr>\n",
              "    <tr>\n",
              "      <th>...</th>\n",
              "      <td>...</td>\n",
              "      <td>...</td>\n",
              "      <td>...</td>\n",
              "      <td>...</td>\n",
              "      <td>...</td>\n",
              "      <td>...</td>\n",
              "      <td>...</td>\n",
              "      <td>...</td>\n",
              "    </tr>\n",
              "    <tr>\n",
              "      <th>16507</th>\n",
              "      <td>0.636454</td>\n",
              "      <td>0.130851</td>\n",
              "      <td>0.666667</td>\n",
              "      <td>0.033776</td>\n",
              "      <td>0.031037</td>\n",
              "      <td>0.018358</td>\n",
              "      <td>0.035520</td>\n",
              "      <td>0.404829</td>\n",
              "    </tr>\n",
              "    <tr>\n",
              "      <th>16508</th>\n",
              "      <td>0.689243</td>\n",
              "      <td>0.156383</td>\n",
              "      <td>0.627451</td>\n",
              "      <td>0.078386</td>\n",
              "      <td>0.088299</td>\n",
              "      <td>0.049048</td>\n",
              "      <td>0.073672</td>\n",
              "      <td>0.175867</td>\n",
              "    </tr>\n",
              "    <tr>\n",
              "      <th>16509</th>\n",
              "      <td>0.594622</td>\n",
              "      <td>0.157447</td>\n",
              "      <td>0.686275</td>\n",
              "      <td>0.053385</td>\n",
              "      <td>0.088144</td>\n",
              "      <td>0.049133</td>\n",
              "      <td>0.086499</td>\n",
              "      <td>0.167894</td>\n",
              "    </tr>\n",
              "    <tr>\n",
              "      <th>16510</th>\n",
              "      <td>0.238048</td>\n",
              "      <td>0.535106</td>\n",
              "      <td>0.274510</td>\n",
              "      <td>0.090874</td>\n",
              "      <td>0.092489</td>\n",
              "      <td>0.049721</td>\n",
              "      <td>0.091761</td>\n",
              "      <td>0.359947</td>\n",
              "    </tr>\n",
              "    <tr>\n",
              "      <th>16511</th>\n",
              "      <td>0.192231</td>\n",
              "      <td>0.555319</td>\n",
              "      <td>1.000000</td>\n",
              "      <td>0.107432</td>\n",
              "      <td>0.203911</td>\n",
              "      <td>0.073320</td>\n",
              "      <td>0.204078</td>\n",
              "      <td>0.143143</td>\n",
              "    </tr>\n",
              "  </tbody>\n",
              "</table>\n",
              "<p>16512 rows × 8 columns</p>\n",
              "</div>\n",
              "      <button class=\"colab-df-convert\" onclick=\"convertToInteractive('df-6bd0b9cf-8e87-4937-858e-1f7ed783f68f')\"\n",
              "              title=\"Convert this dataframe to an interactive table.\"\n",
              "              style=\"display:none;\">\n",
              "        \n",
              "  <svg xmlns=\"http://www.w3.org/2000/svg\" height=\"24px\"viewBox=\"0 0 24 24\"\n",
              "       width=\"24px\">\n",
              "    <path d=\"M0 0h24v24H0V0z\" fill=\"none\"/>\n",
              "    <path d=\"M18.56 5.44l.94 2.06.94-2.06 2.06-.94-2.06-.94-.94-2.06-.94 2.06-2.06.94zm-11 1L8.5 8.5l.94-2.06 2.06-.94-2.06-.94L8.5 2.5l-.94 2.06-2.06.94zm10 10l.94 2.06.94-2.06 2.06-.94-2.06-.94-.94-2.06-.94 2.06-2.06.94z\"/><path d=\"M17.41 7.96l-1.37-1.37c-.4-.4-.92-.59-1.43-.59-.52 0-1.04.2-1.43.59L10.3 9.45l-7.72 7.72c-.78.78-.78 2.05 0 2.83L4 21.41c.39.39.9.59 1.41.59.51 0 1.02-.2 1.41-.59l7.78-7.78 2.81-2.81c.8-.78.8-2.07 0-2.86zM5.41 20L4 18.59l7.72-7.72 1.47 1.35L5.41 20z\"/>\n",
              "  </svg>\n",
              "      </button>\n",
              "      \n",
              "  <style>\n",
              "    .colab-df-container {\n",
              "      display:flex;\n",
              "      flex-wrap:wrap;\n",
              "      gap: 12px;\n",
              "    }\n",
              "\n",
              "    .colab-df-convert {\n",
              "      background-color: #E8F0FE;\n",
              "      border: none;\n",
              "      border-radius: 50%;\n",
              "      cursor: pointer;\n",
              "      display: none;\n",
              "      fill: #1967D2;\n",
              "      height: 32px;\n",
              "      padding: 0 0 0 0;\n",
              "      width: 32px;\n",
              "    }\n",
              "\n",
              "    .colab-df-convert:hover {\n",
              "      background-color: #E2EBFA;\n",
              "      box-shadow: 0px 1px 2px rgba(60, 64, 67, 0.3), 0px 1px 3px 1px rgba(60, 64, 67, 0.15);\n",
              "      fill: #174EA6;\n",
              "    }\n",
              "\n",
              "    [theme=dark] .colab-df-convert {\n",
              "      background-color: #3B4455;\n",
              "      fill: #D2E3FC;\n",
              "    }\n",
              "\n",
              "    [theme=dark] .colab-df-convert:hover {\n",
              "      background-color: #434B5C;\n",
              "      box-shadow: 0px 1px 3px 1px rgba(0, 0, 0, 0.15);\n",
              "      filter: drop-shadow(0px 1px 2px rgba(0, 0, 0, 0.3));\n",
              "      fill: #FFFFFF;\n",
              "    }\n",
              "  </style>\n",
              "\n",
              "      <script>\n",
              "        const buttonEl =\n",
              "          document.querySelector('#df-6bd0b9cf-8e87-4937-858e-1f7ed783f68f button.colab-df-convert');\n",
              "        buttonEl.style.display =\n",
              "          google.colab.kernel.accessAllowed ? 'block' : 'none';\n",
              "\n",
              "        async function convertToInteractive(key) {\n",
              "          const element = document.querySelector('#df-6bd0b9cf-8e87-4937-858e-1f7ed783f68f');\n",
              "          const dataTable =\n",
              "            await google.colab.kernel.invokeFunction('convertToInteractive',\n",
              "                                                     [key], {});\n",
              "          if (!dataTable) return;\n",
              "\n",
              "          const docLinkHtml = 'Like what you see? Visit the ' +\n",
              "            '<a target=\"_blank\" href=https://colab.research.google.com/notebooks/data_table.ipynb>data table notebook</a>'\n",
              "            + ' to learn more about interactive tables.';\n",
              "          element.innerHTML = '';\n",
              "          dataTable['output_type'] = 'display_data';\n",
              "          await google.colab.output.renderOutput(dataTable, element);\n",
              "          const docLink = document.createElement('div');\n",
              "          docLink.innerHTML = docLinkHtml;\n",
              "          element.appendChild(docLink);\n",
              "        }\n",
              "      </script>\n",
              "    </div>\n",
              "  </div>\n",
              "  "
            ]
          },
          "metadata": {},
          "execution_count": 321
        }
      ]
    },
    {
      "cell_type": "markdown",
      "source": [
        "## Transformation Pipelines"
      ],
      "metadata": {
        "id": "6XFvRt2dTMCW"
      }
    },
    {
      "cell_type": "markdown",
      "source": [
        "As you can see, there are many data transformation steps that need to be executed in\n",
        "the right order. Fortunately, Scikit-Learn provides the Pipeline class to help with\n",
        "such sequences of transformations. Here is a small pipeline for the numerical\n",
        "attributes:"
      ],
      "metadata": {
        "id": "KK7DfgmuTP0h"
      }
    },
    {
      "cell_type": "code",
      "source": [
        "# Importing the Pipeline class from sklearn.pipeline:\n",
        "\n",
        "\n",
        "# Creating the pipeline by specifying the names of the steps and the respective functions:\n",
        "num_pipeline = \n",
        "\n",
        "# Fitting the pipelin to the numeric trainset (similiar to normal transformers)\n",
        "\n",
        "\n",
        "# Transforming the data using the pipeline\n"
      ],
      "metadata": {
        "id": "x8vNhcduSz3j"
      },
      "execution_count": null,
      "outputs": []
    },
    {
      "cell_type": "markdown",
      "source": [
        "Pipelines make our code easy to read and understand. Instead of creating individual functions and running them back-to-back, we can create a pipeline to chain them together."
      ],
      "metadata": {
        "id": "lk6X5rOuUGTH"
      }
    },
    {
      "cell_type": "markdown",
      "source": [
        "So far, we have handled the categorical columns and the numerical columns sepa‐\n",
        "rately. It would be more convenient to have a single transformer able to handle all columns, applying the appropriate transformations to each column. Scikit-Learn has  the ColumnTransformer for this purpose. ColumnTransformer allows us to apply different pipelines and transformers to specific columns."
      ],
      "metadata": {
        "id": "pyuMirDNUZ-R"
      }
    },
    {
      "cell_type": "code",
      "source": [
        "# Importing the ColumnTransformer from sklearn.compose:\n",
        "\n",
        "\n",
        "# Making a list of all the numeric and categorical attributes:\n",
        "num_attribs = ['longitude', 'latitude', 'housing_median_age', 'total_rooms', \n",
        "               'total_bedrooms', 'population', 'households', 'median_income']\n",
        "\n",
        "cat_attribs = [\"ocean_proximity\"]\n",
        "\n",
        "\n",
        "# Creating the complete pipeline using the ColumnTransformer:\n",
        "full_pipeline = \n",
        "\n",
        "# Fitting the fulll_pipeline to the full data:\n",
        "\n",
        "\n",
        "# transforming the data using the final pipeline:\n"
      ],
      "metadata": {
        "id": "B4X2CGHRTmd2"
      },
      "execution_count": null,
      "outputs": []
    },
    {
      "cell_type": "markdown",
      "source": [
        "Our final pipeline should combine all our operations and chain them together. Any time we get new data, we can run `full_pipeline.transform(data)` to preprocess it!"
      ],
      "metadata": {
        "id": "vYu7XCVWV1j5"
      }
    },
    {
      "cell_type": "code",
      "source": [
        "# Taking a look at the transformed data:\n",
        "pd.DataFrame(train_set_tr, columns=train_set.columns)"
      ],
      "metadata": {
        "colab": {
          "base_uri": "https://localhost:8080/",
          "height": 424
        },
        "id": "Bd-0DGZyVCW3",
        "outputId": "42767fd7-e05c-4e6b-b174-55fd8e430dc4"
      },
      "execution_count": null,
      "outputs": [
        {
          "output_type": "execute_result",
          "data": {
            "text/plain": [
              "       longitude  latitude  housing_median_age  total_rooms  total_bedrooms  \\\n",
              "0       0.729084  0.017021            0.627451     0.079455        0.097145   \n",
              "1       0.616534  0.129787            0.941176     0.085966        0.121974   \n",
              "2       0.385458  0.224468            0.058824     0.048197        0.051210   \n",
              "3       0.721116  0.014894            0.686275     0.036090        0.056797   \n",
              "4       0.453187  0.450000            0.823529     0.060532        0.066729   \n",
              "...          ...       ...                 ...          ...             ...   \n",
              "16507   0.636454  0.130851            0.666667     0.033776        0.031037   \n",
              "16508   0.689243  0.156383            0.627451     0.078386        0.088299   \n",
              "16509   0.594622  0.157447            0.686275     0.053385        0.088144   \n",
              "16510   0.238048  0.535106            0.274510     0.090874        0.092489   \n",
              "16511   0.192231  0.555319            1.000000     0.107432        0.203911   \n",
              "\n",
              "       population  households  median_income  ocean_proximity  \n",
              "0        0.064380    0.102286       0.190322              4.0  \n",
              "1        0.036744    0.124157       0.228452              4.0  \n",
              "2        0.025561    0.055090       0.252162              4.0  \n",
              "3        0.039659    0.058214       0.099488              4.0  \n",
              "4        0.024412    0.062325       0.210638              1.0  \n",
              "...           ...         ...            ...              ...  \n",
              "16507    0.018358    0.035520       0.404829              0.0  \n",
              "16508    0.049048    0.073672       0.175867              1.0  \n",
              "16509    0.049133    0.086499       0.167894              0.0  \n",
              "16510    0.049721    0.091761       0.359947              0.0  \n",
              "16511    0.073320    0.204078       0.143143              3.0  \n",
              "\n",
              "[16512 rows x 9 columns]"
            ],
            "text/html": [
              "\n",
              "  <div id=\"df-8a3a289b-5fd1-497c-80d8-4b1da40f04ec\">\n",
              "    <div class=\"colab-df-container\">\n",
              "      <div>\n",
              "<style scoped>\n",
              "    .dataframe tbody tr th:only-of-type {\n",
              "        vertical-align: middle;\n",
              "    }\n",
              "\n",
              "    .dataframe tbody tr th {\n",
              "        vertical-align: top;\n",
              "    }\n",
              "\n",
              "    .dataframe thead th {\n",
              "        text-align: right;\n",
              "    }\n",
              "</style>\n",
              "<table border=\"1\" class=\"dataframe\">\n",
              "  <thead>\n",
              "    <tr style=\"text-align: right;\">\n",
              "      <th></th>\n",
              "      <th>longitude</th>\n",
              "      <th>latitude</th>\n",
              "      <th>housing_median_age</th>\n",
              "      <th>total_rooms</th>\n",
              "      <th>total_bedrooms</th>\n",
              "      <th>population</th>\n",
              "      <th>households</th>\n",
              "      <th>median_income</th>\n",
              "      <th>ocean_proximity</th>\n",
              "    </tr>\n",
              "  </thead>\n",
              "  <tbody>\n",
              "    <tr>\n",
              "      <th>0</th>\n",
              "      <td>0.729084</td>\n",
              "      <td>0.017021</td>\n",
              "      <td>0.627451</td>\n",
              "      <td>0.079455</td>\n",
              "      <td>0.097145</td>\n",
              "      <td>0.064380</td>\n",
              "      <td>0.102286</td>\n",
              "      <td>0.190322</td>\n",
              "      <td>4.0</td>\n",
              "    </tr>\n",
              "    <tr>\n",
              "      <th>1</th>\n",
              "      <td>0.616534</td>\n",
              "      <td>0.129787</td>\n",
              "      <td>0.941176</td>\n",
              "      <td>0.085966</td>\n",
              "      <td>0.121974</td>\n",
              "      <td>0.036744</td>\n",
              "      <td>0.124157</td>\n",
              "      <td>0.228452</td>\n",
              "      <td>4.0</td>\n",
              "    </tr>\n",
              "    <tr>\n",
              "      <th>2</th>\n",
              "      <td>0.385458</td>\n",
              "      <td>0.224468</td>\n",
              "      <td>0.058824</td>\n",
              "      <td>0.048197</td>\n",
              "      <td>0.051210</td>\n",
              "      <td>0.025561</td>\n",
              "      <td>0.055090</td>\n",
              "      <td>0.252162</td>\n",
              "      <td>4.0</td>\n",
              "    </tr>\n",
              "    <tr>\n",
              "      <th>3</th>\n",
              "      <td>0.721116</td>\n",
              "      <td>0.014894</td>\n",
              "      <td>0.686275</td>\n",
              "      <td>0.036090</td>\n",
              "      <td>0.056797</td>\n",
              "      <td>0.039659</td>\n",
              "      <td>0.058214</td>\n",
              "      <td>0.099488</td>\n",
              "      <td>4.0</td>\n",
              "    </tr>\n",
              "    <tr>\n",
              "      <th>4</th>\n",
              "      <td>0.453187</td>\n",
              "      <td>0.450000</td>\n",
              "      <td>0.823529</td>\n",
              "      <td>0.060532</td>\n",
              "      <td>0.066729</td>\n",
              "      <td>0.024412</td>\n",
              "      <td>0.062325</td>\n",
              "      <td>0.210638</td>\n",
              "      <td>1.0</td>\n",
              "    </tr>\n",
              "    <tr>\n",
              "      <th>...</th>\n",
              "      <td>...</td>\n",
              "      <td>...</td>\n",
              "      <td>...</td>\n",
              "      <td>...</td>\n",
              "      <td>...</td>\n",
              "      <td>...</td>\n",
              "      <td>...</td>\n",
              "      <td>...</td>\n",
              "      <td>...</td>\n",
              "    </tr>\n",
              "    <tr>\n",
              "      <th>16507</th>\n",
              "      <td>0.636454</td>\n",
              "      <td>0.130851</td>\n",
              "      <td>0.666667</td>\n",
              "      <td>0.033776</td>\n",
              "      <td>0.031037</td>\n",
              "      <td>0.018358</td>\n",
              "      <td>0.035520</td>\n",
              "      <td>0.404829</td>\n",
              "      <td>0.0</td>\n",
              "    </tr>\n",
              "    <tr>\n",
              "      <th>16508</th>\n",
              "      <td>0.689243</td>\n",
              "      <td>0.156383</td>\n",
              "      <td>0.627451</td>\n",
              "      <td>0.078386</td>\n",
              "      <td>0.088299</td>\n",
              "      <td>0.049048</td>\n",
              "      <td>0.073672</td>\n",
              "      <td>0.175867</td>\n",
              "      <td>1.0</td>\n",
              "    </tr>\n",
              "    <tr>\n",
              "      <th>16509</th>\n",
              "      <td>0.594622</td>\n",
              "      <td>0.157447</td>\n",
              "      <td>0.686275</td>\n",
              "      <td>0.053385</td>\n",
              "      <td>0.088144</td>\n",
              "      <td>0.049133</td>\n",
              "      <td>0.086499</td>\n",
              "      <td>0.167894</td>\n",
              "      <td>0.0</td>\n",
              "    </tr>\n",
              "    <tr>\n",
              "      <th>16510</th>\n",
              "      <td>0.238048</td>\n",
              "      <td>0.535106</td>\n",
              "      <td>0.274510</td>\n",
              "      <td>0.090874</td>\n",
              "      <td>0.092489</td>\n",
              "      <td>0.049721</td>\n",
              "      <td>0.091761</td>\n",
              "      <td>0.359947</td>\n",
              "      <td>0.0</td>\n",
              "    </tr>\n",
              "    <tr>\n",
              "      <th>16511</th>\n",
              "      <td>0.192231</td>\n",
              "      <td>0.555319</td>\n",
              "      <td>1.000000</td>\n",
              "      <td>0.107432</td>\n",
              "      <td>0.203911</td>\n",
              "      <td>0.073320</td>\n",
              "      <td>0.204078</td>\n",
              "      <td>0.143143</td>\n",
              "      <td>3.0</td>\n",
              "    </tr>\n",
              "  </tbody>\n",
              "</table>\n",
              "<p>16512 rows × 9 columns</p>\n",
              "</div>\n",
              "      <button class=\"colab-df-convert\" onclick=\"convertToInteractive('df-8a3a289b-5fd1-497c-80d8-4b1da40f04ec')\"\n",
              "              title=\"Convert this dataframe to an interactive table.\"\n",
              "              style=\"display:none;\">\n",
              "        \n",
              "  <svg xmlns=\"http://www.w3.org/2000/svg\" height=\"24px\"viewBox=\"0 0 24 24\"\n",
              "       width=\"24px\">\n",
              "    <path d=\"M0 0h24v24H0V0z\" fill=\"none\"/>\n",
              "    <path d=\"M18.56 5.44l.94 2.06.94-2.06 2.06-.94-2.06-.94-.94-2.06-.94 2.06-2.06.94zm-11 1L8.5 8.5l.94-2.06 2.06-.94-2.06-.94L8.5 2.5l-.94 2.06-2.06.94zm10 10l.94 2.06.94-2.06 2.06-.94-2.06-.94-.94-2.06-.94 2.06-2.06.94z\"/><path d=\"M17.41 7.96l-1.37-1.37c-.4-.4-.92-.59-1.43-.59-.52 0-1.04.2-1.43.59L10.3 9.45l-7.72 7.72c-.78.78-.78 2.05 0 2.83L4 21.41c.39.39.9.59 1.41.59.51 0 1.02-.2 1.41-.59l7.78-7.78 2.81-2.81c.8-.78.8-2.07 0-2.86zM5.41 20L4 18.59l7.72-7.72 1.47 1.35L5.41 20z\"/>\n",
              "  </svg>\n",
              "      </button>\n",
              "      \n",
              "  <style>\n",
              "    .colab-df-container {\n",
              "      display:flex;\n",
              "      flex-wrap:wrap;\n",
              "      gap: 12px;\n",
              "    }\n",
              "\n",
              "    .colab-df-convert {\n",
              "      background-color: #E8F0FE;\n",
              "      border: none;\n",
              "      border-radius: 50%;\n",
              "      cursor: pointer;\n",
              "      display: none;\n",
              "      fill: #1967D2;\n",
              "      height: 32px;\n",
              "      padding: 0 0 0 0;\n",
              "      width: 32px;\n",
              "    }\n",
              "\n",
              "    .colab-df-convert:hover {\n",
              "      background-color: #E2EBFA;\n",
              "      box-shadow: 0px 1px 2px rgba(60, 64, 67, 0.3), 0px 1px 3px 1px rgba(60, 64, 67, 0.15);\n",
              "      fill: #174EA6;\n",
              "    }\n",
              "\n",
              "    [theme=dark] .colab-df-convert {\n",
              "      background-color: #3B4455;\n",
              "      fill: #D2E3FC;\n",
              "    }\n",
              "\n",
              "    [theme=dark] .colab-df-convert:hover {\n",
              "      background-color: #434B5C;\n",
              "      box-shadow: 0px 1px 3px 1px rgba(0, 0, 0, 0.15);\n",
              "      filter: drop-shadow(0px 1px 2px rgba(0, 0, 0, 0.3));\n",
              "      fill: #FFFFFF;\n",
              "    }\n",
              "  </style>\n",
              "\n",
              "      <script>\n",
              "        const buttonEl =\n",
              "          document.querySelector('#df-8a3a289b-5fd1-497c-80d8-4b1da40f04ec button.colab-df-convert');\n",
              "        buttonEl.style.display =\n",
              "          google.colab.kernel.accessAllowed ? 'block' : 'none';\n",
              "\n",
              "        async function convertToInteractive(key) {\n",
              "          const element = document.querySelector('#df-8a3a289b-5fd1-497c-80d8-4b1da40f04ec');\n",
              "          const dataTable =\n",
              "            await google.colab.kernel.invokeFunction('convertToInteractive',\n",
              "                                                     [key], {});\n",
              "          if (!dataTable) return;\n",
              "\n",
              "          const docLinkHtml = 'Like what you see? Visit the ' +\n",
              "            '<a target=\"_blank\" href=https://colab.research.google.com/notebooks/data_table.ipynb>data table notebook</a>'\n",
              "            + ' to learn more about interactive tables.';\n",
              "          element.innerHTML = '';\n",
              "          dataTable['output_type'] = 'display_data';\n",
              "          await google.colab.output.renderOutput(dataTable, element);\n",
              "          const docLink = document.createElement('div');\n",
              "          docLink.innerHTML = docLinkHtml;\n",
              "          element.appendChild(docLink);\n",
              "        }\n",
              "      </script>\n",
              "    </div>\n",
              "  </div>\n",
              "  "
            ]
          },
          "metadata": {},
          "execution_count": 324
        }
      ]
    },
    {
      "cell_type": "markdown",
      "source": [
        "## Selecting and Training a model"
      ],
      "metadata": {
        "id": "MDDjoVuMXTso"
      }
    },
    {
      "cell_type": "markdown",
      "source": [
        "At last! You framed the problem, you got the data and explored it, you sampled a\n",
        "training set and a test set, and you wrote transformation pipelines to clean up and\n",
        "prepare your data for Machine Learning algorithms automatically. You are now ready\n",
        "to select and train a Machine Learning model.\n"
      ],
      "metadata": {
        "id": "4pYEgThbXY2a"
      }
    },
    {
      "cell_type": "markdown",
      "source": [
        "### Training and Evaluating on the Training Set"
      ],
      "metadata": {
        "id": "Zb8N9WBlXcPg"
      }
    },
    {
      "cell_type": "markdown",
      "source": [
        "The good news is that thanks to all these previous steps, things are now going to be\n",
        "much simpler than you might think. Let’s first train a Linear Regression model, like\n",
        "we did in the previous chapter"
      ],
      "metadata": {
        "id": "xBn8W77AXeJM"
      }
    },
    {
      "cell_type": "markdown",
      "source": [
        "Linear Regression is a very simple model. In simplified terms, all it does is that it draws a straight line through the data and makes predictions according to the linbe. Because this model is so simple, we won't be expecting very high performance.\n",
        "\n",
        "![](https://miro.medium.com/max/640/1*LEmBCYAttxS6uI6rEyPLMQ.png)"
      ],
      "metadata": {
        "id": "nwYHHcRetFen"
      }
    },
    {
      "cell_type": "code",
      "source": [
        "# importing LinearRegression class from sklearn.linear_model:\n",
        "\n",
        "\n",
        "# Instantiating the LinearRegression class:\n",
        "\n",
        "\n",
        "# Training the model by fitting it to the dataset:\n"
      ],
      "metadata": {
        "colab": {
          "base_uri": "https://localhost:8080/"
        },
        "id": "dfof-eK0WJ5s",
        "outputId": "fb66f916-7117-446d-db99-f9b9dbaa5c15"
      },
      "execution_count": null,
      "outputs": [
        {
          "output_type": "execute_result",
          "data": {
            "text/plain": [
              "LinearRegression()"
            ]
          },
          "metadata": {},
          "execution_count": 326
        }
      ]
    },
    {
      "cell_type": "markdown",
      "source": [
        "Done! You now have a working Linear Regression model. Let’s try it out on a few\n",
        "instances from the training set:"
      ],
      "metadata": {
        "id": "aUo2zGVQqtUp"
      }
    },
    {
      "cell_type": "code",
      "source": [
        "# Sampling some data from the training data:\n",
        "\n",
        "\n",
        "# Run predictions on the data:\n"
      ],
      "metadata": {
        "colab": {
          "base_uri": "https://localhost:8080/"
        },
        "id": "DdAZ-gDUpvAh",
        "outputId": "82787073-4aa9-4ac7-a809-75528793ac56"
      },
      "execution_count": null,
      "outputs": [
        {
          "output_type": "execute_result",
          "data": {
            "text/plain": [
              "array([180251.26434735, 285591.79669634, 262660.32133105, 139991.5125668 ,\n",
              "       177370.82963546])"
            ]
          },
          "metadata": {},
          "execution_count": 329
        }
      ]
    },
    {
      "cell_type": "markdown",
      "source": [
        "Let’s measure this regression model’s RMSE on the whole train‐\n",
        "ing set using Scikit-Learn’s mean_squared_error() function:\n"
      ],
      "metadata": {
        "id": "TaRLVNz7sPui"
      }
    },
    {
      "cell_type": "code",
      "source": [
        "# importing the RMSE metric from sklearn.metrics:\n",
        "\n",
        "\n",
        "# Making predictions on the training data:\n",
        "\n",
        "\n",
        "# Calculating the RMSE:\n",
        "\n",
        "\n",
        "# Printing the RMSE score:\n"
      ],
      "metadata": {
        "colab": {
          "base_uri": "https://localhost:8080/"
        },
        "id": "vRqv1rh-sJsm",
        "outputId": "d13f94c4-2745-4615-95f2-1eb54214effd"
      },
      "execution_count": null,
      "outputs": [
        {
          "output_type": "stream",
          "name": "stdout",
          "text": [
            "69361.0714290645\n"
          ]
        }
      ]
    },
    {
      "cell_type": "markdown",
      "source": [
        "This is better than nothing, but clearly not a great score. This is an example of a model underfitting the training\n",
        "data. When this happens it can mean that the model is not powerful enough. As\n",
        "we saw in the previous chapter, the main ways to fix underfitting are to select a more\n",
        "powerful model.\n",
        "\n",
        "Let’s train a RandomForestRegressor. This is a powerful model, capable of finding\n",
        "complex nonlinear relationships in the data. So our options are not limited to straight lines. RandomForests can adapt to the data and are much more flexible. RandomForests are created by combining many smaller model called DecisionTrees. \n",
        "\n",
        "![](https://res.cloudinary.com/practicaldev/image/fetch/s--YryIJN_o--/c_imagga_scale,f_auto,fl_progressive,h_900,q_auto,w_1600/https://thepracticaldev.s3.amazonaws.com/i/7oxf0e3cggdj9jayxeig.png)"
      ],
      "metadata": {
        "id": "EvJVGNRbtofp"
      }
    },
    {
      "cell_type": "code",
      "source": [
        "# import the RandomForestRegressor from sklearn.ensemble:\n",
        "\n",
        "\n",
        "# Instantiating the model:\n",
        "\n",
        "\n",
        "# Fitting the model to our data:\n"
      ],
      "metadata": {
        "colab": {
          "base_uri": "https://localhost:8080/"
        },
        "id": "aYtqKvuJs7qq",
        "outputId": "ba55056e-1e4a-44ae-d7b0-eb5358dc12fb"
      },
      "execution_count": null,
      "outputs": [
        {
          "output_type": "execute_result",
          "data": {
            "text/plain": [
              "RandomForestRegressor()"
            ]
          },
          "metadata": {},
          "execution_count": 339
        }
      ]
    },
    {
      "cell_type": "markdown",
      "source": [
        "Now that the model is trained, let’s evaluate it on the training set:"
      ],
      "metadata": {
        "id": "PIghfr-nvGN3"
      }
    },
    {
      "cell_type": "code",
      "source": [
        "# Getting the predictions on the trainign set:\n",
        "housing_predictions = tree_reg.predict(train_set_tr)\n",
        "\n",
        "# Calculating the RMSE:\n",
        "rmse_score = mean_squared_error(train_set_labels, housing_predictions, squared=False)\n",
        "\n",
        "# Printing the RMSE score:\n",
        "print(rmse_score)"
      ],
      "metadata": {
        "colab": {
          "base_uri": "https://localhost:8080/"
        },
        "id": "2QQ00AqevEvg",
        "outputId": "f9454ecb-cdb0-485b-d251-47290e98025c"
      },
      "execution_count": null,
      "outputs": [
        {
          "output_type": "stream",
          "name": "stdout",
          "text": [
            "18375.1303194031\n"
          ]
        }
      ]
    },
    {
      "cell_type": "markdown",
      "source": [
        "Wow! This looks much better then our linear regression model!"
      ],
      "metadata": {
        "id": "e1l1Af3xvZNE"
      }
    },
    {
      "cell_type": "markdown",
      "source": [
        "## Fine-Tune Your Model\n"
      ],
      "metadata": {
        "id": "N5g72ksvvZCe"
      }
    },
    {
      "cell_type": "markdown",
      "source": [
        "One option would be to fiddle with the hyperparameters manually, until you find a\n",
        "great combination of hyperparameter values. This would be very tedious work, and\n",
        "you may not have time to explore many combinations."
      ],
      "metadata": {
        "id": "vpqxvLuQxXbm"
      }
    },
    {
      "cell_type": "markdown",
      "source": [
        "Instead, you should get Scikit-Learn’s GridSearchCV to search for you. All you need\n",
        "to do is tell it which hyperparameters you want it to experiment with and what values\n",
        "to try out, and it will use cross-validation to evaluate all the possible combinations of\n",
        "hyperparameter values. For example, the following code searches for the best combination of hyperparameter values for the RandomForestRegressor"
      ],
      "metadata": {
        "id": "CHXWWh4TxZ0P"
      }
    },
    {
      "cell_type": "code",
      "source": [
        "# importing GridSearchCV from sklearn.model_selection\n",
        "from sklearn.model_selection import GridSearchCV\n",
        "\n",
        "# Creating the grid of parameteres e want to go through:\n",
        "param_grid = {'bootstrap': [False, True], 'n_estimators': [3, 10, 30], 'max_features': [2, 3, 4, 6, 8]}\n",
        "\n",
        "# Instantiating the ML model:\n",
        "\n",
        "\n",
        "# Setting up the grid search:\n",
        "\n",
        "\n",
        "# Running the grid search on the training data:\n"
      ],
      "metadata": {
        "colab": {
          "base_uri": "https://localhost:8080/"
        },
        "id": "0Sr2DqO6vWvA",
        "outputId": "db27fbe8-594a-48dd-bd1a-b586dca0560a"
      },
      "execution_count": null,
      "outputs": [
        {
          "output_type": "execute_result",
          "data": {
            "text/plain": [
              "GridSearchCV(cv=5, estimator=RandomForestRegressor(),\n",
              "             param_grid={'bootstrap': [False, True],\n",
              "                         'max_features': [2, 3, 4, 6, 8],\n",
              "                         'n_estimators': [3, 10, 30]},\n",
              "             scoring='neg_mean_squared_error')"
            ]
          },
          "metadata": {},
          "execution_count": 370
        }
      ]
    },
    {
      "cell_type": "markdown",
      "source": [
        "Now that the grid search is complete. We can get the best parameters the search found using the `best_estimator_` attribute"
      ],
      "metadata": {
        "id": "PWFZ9lRE_3VR"
      }
    },
    {
      "cell_type": "code",
      "source": [
        "# Loading the best model found:\n",
        "final_model = \n",
        "\n",
        "# Printing the parameters of the best model:\n",
        "print(final_model)"
      ],
      "metadata": {
        "colab": {
          "base_uri": "https://localhost:8080/"
        },
        "id": "wRahuMpzxsAN",
        "outputId": "badee5b6-b570-488e-8e2e-a6673e5df3d3"
      },
      "execution_count": null,
      "outputs": [
        {
          "output_type": "stream",
          "name": "stdout",
          "text": [
            "RandomForestRegressor(bootstrap=False, max_features=4, n_estimators=30)\n"
          ]
        }
      ]
    },
    {
      "cell_type": "markdown",
      "source": [
        "Lets check the score we got:"
      ],
      "metadata": {
        "id": "HPhTXbIzAEDL"
      }
    },
    {
      "cell_type": "code",
      "source": [
        "# importing numpy\n",
        "import numpy as np\n",
        "\n",
        "# Getting the best perofrmance:\n",
        "min(np.sqrt(-grid_search.cv_results_[\"mean_test_score\"]))"
      ],
      "metadata": {
        "colab": {
          "base_uri": "https://localhost:8080/"
        },
        "id": "40zyoXSbyehW",
        "outputId": "2c637cf6-8554-427e-bfbc-215a83d50a9d"
      },
      "execution_count": null,
      "outputs": [
        {
          "output_type": "execute_result",
          "data": {
            "text/plain": [
              "49003.860423950086"
            ]
          },
          "metadata": {},
          "execution_count": 374
        }
      ]
    },
    {
      "cell_type": "markdown",
      "source": [
        "Wow! That is the best score we have gotten so far. I think our model is looking good. There is only one last step we need to tackle, Testing the model on the test set."
      ],
      "metadata": {
        "id": "sPkfIAeRAGZX"
      }
    },
    {
      "cell_type": "markdown",
      "source": [
        "## Evaluating the model on the test set"
      ],
      "metadata": {
        "id": "_L-mjQPu2i3w"
      }
    },
    {
      "cell_type": "markdown",
      "source": [
        "After tweaking your models for a while, you eventually have a system that performs\n",
        "sufficiently well. Now is the time to evaluate the final model on the test set. There is\n",
        "nothing special about this process; just get the predictors and the labels from your\n",
        "test set, run your full_pipeline to transform the data (call transform(), not\n",
        "fit_transform()—you do not want to fit the test set!), and evaluate the final model\n",
        "on the test set:"
      ],
      "metadata": {
        "id": "W6wHpKhO2nuI"
      }
    },
    {
      "cell_type": "code",
      "source": [
        "# Running the test set through our pipeline to preprocess it:\n"
      ],
      "metadata": {
        "id": "fW-4ggzA0R9B"
      },
      "execution_count": null,
      "outputs": []
    },
    {
      "cell_type": "code",
      "source": [
        "# Making predictions on the processed test set:\n",
        "\n",
        "\n",
        "# Calculating the RMSE on the predictions\n",
        "final_rmse = mean_squared_error(test_set_labels, final_predictions, squared=False)\n",
        "\n",
        "# Printing the final RMSE on the test set:\n",
        "print(final_rmse)"
      ],
      "metadata": {
        "id": "rBBNLE2y-tMl"
      },
      "execution_count": null,
      "outputs": []
    },
    {
      "cell_type": "markdown",
      "source": [
        "That is a great score, especially compared to what we had in the beginning. By trying out different algorithms and fine tuning hyperparameters, we were able to successfully increase our model performance by a substantial amount! We will call this a success. Now lets take a look at how you can share your model with others by saving it for later use."
      ],
      "metadata": {
        "id": "3tJIUkmfAReF"
      }
    },
    {
      "cell_type": "markdown",
      "source": [
        "## Saving and Loading Models"
      ],
      "metadata": {
        "id": "uuahhnJE3FSi"
      }
    },
    {
      "cell_type": "markdown",
      "source": [
        "Now that you have created a model, now its time to save it! The easiest way to save a Scikit-Learn model is by using the joblib library:"
      ],
      "metadata": {
        "id": "itq0zDKo3gaT"
      }
    },
    {
      "cell_type": "code",
      "source": [
        "# importing joblib:\n",
        "\n",
        "\n",
        "# Saving the model as my_model.pkl:\n",
        "\n"
      ],
      "metadata": {
        "colab": {
          "base_uri": "https://localhost:8080/"
        },
        "id": "L19XJ4po23TL",
        "outputId": "8830b7a5-c3c5-4b8d-8632-ca07a1429113"
      },
      "execution_count": null,
      "outputs": [
        {
          "output_type": "execute_result",
          "data": {
            "text/plain": [
              "['my_model.pkl']"
            ]
          },
          "metadata": {},
          "execution_count": 378
        }
      ]
    },
    {
      "cell_type": "markdown",
      "source": [
        "Now that you have saved the model, you can load it using the `joblib.load()` function and use it as normal. "
      ],
      "metadata": {
        "id": "y0B7NQcc_HOs"
      }
    },
    {
      "cell_type": "code",
      "source": [
        "# Loading the ML model from the file:\n",
        "\n",
        "\n",
        "# Making predictions using the loaded model!\n"
      ],
      "metadata": {
        "colab": {
          "base_uri": "https://localhost:8080/"
        },
        "id": "x13F0KI23-Gg",
        "outputId": "23993589-ba8f-471f-ee5a-8ac25aa596a5"
      },
      "execution_count": null,
      "outputs": [
        {
          "output_type": "execute_result",
          "data": {
            "text/plain": [
              "array([ 48846.66666667,  66690.        , 456820.23333333, ...,\n",
              "       493350.93333333,  68896.66666667, 180300.        ])"
            ]
          },
          "metadata": {},
          "execution_count": 379
        }
      ]
    },
    {
      "cell_type": "markdown",
      "source": [
        "Hopefully this real world example gave you a good idea of what a Machine Learning project\n",
        "looks like as well as showing you some of the tools you can use to train a great system.\n",
        "As you can see, much of the work is in the data preparation step.\n",
        "The Machine Learning algorithms are important, of course, but it is probably preferable to be comfortable with the overall process and know three or four algorithms well\n",
        "rather than to spend all your time exploring advanced algorithms.\n",
        "\n",
        "This project was not desinged to be an in-depth guide into ML algorithms or models, but it was designed to give you an idea of how ML projects are structured and how can start creating one yourself!"
      ],
      "metadata": {
        "id": "sfPF4Qzb_XRm"
      }
    },
    {
      "cell_type": "markdown",
      "source": [
        "# Done!"
      ],
      "metadata": {
        "id": "2sFBfpCA65hj"
      }
    }
  ],
  "metadata": {
    "kernelspec": {
      "display_name": "Python 3",
      "language": "python",
      "name": "python3"
    },
    "language_info": {
      "codemirror_mode": {
        "name": "ipython",
        "version": 2
      },
      "file_extension": ".py",
      "mimetype": "text/x-python",
      "name": "python",
      "nbconvert_exporter": "python",
      "pygments_lexer": "ipython2",
      "version": "2.7.6"
    },
    "colab": {
      "provenance": [],
      "include_colab_link": true
    }
  },
  "nbformat": 4,
  "nbformat_minor": 0
}